{
 "cells": [
  {
   "cell_type": "markdown",
   "metadata": {},
   "source": [
    "# Analiza prometnih nesreč v Sloveniji"
   ]
  },
  {
   "cell_type": "code",
   "execution_count": 1,
   "metadata": {},
   "outputs": [],
   "source": [
    "import numpy as np\n",
    "import pandas as pd"
   ]
  },
  {
   "cell_type": "code",
   "execution_count": 2,
   "metadata": {},
   "outputs": [
    {
     "data": {
      "text/html": [
       "<script>requirejs.config({paths: { 'plotly': ['https://cdn.plot.ly/plotly-latest.min']},});if(!window.Plotly) {{require(['plotly'],function(plotly) {window.Plotly=plotly;});}}</script>"
      ],
      "text/vnd.plotly.v1+html": [
       "<script>requirejs.config({paths: { 'plotly': ['https://cdn.plot.ly/plotly-latest.min']},});if(!window.Plotly) {{require(['plotly'],function(plotly) {window.Plotly=plotly;});}}</script>"
      ]
     },
     "metadata": {},
     "output_type": "display_data"
    }
   ],
   "source": [
    "import plotly.graph_objs as go\n",
    "from plotly.offline import download_plotlyjs, init_notebook_mode, plot, iplot\n",
    "init_notebook_mode(connected=True)"
   ]
  },
  {
   "cell_type": "code",
   "execution_count": 3,
   "metadata": {},
   "outputs": [],
   "source": [
    "from mapboxgl.viz import *\n",
    "from mapboxgl.utils import *"
   ]
  },
  {
   "cell_type": "code",
   "execution_count": 4,
   "metadata": {},
   "outputs": [],
   "source": [
    "# Import data\n",
    "dnevi=pd.read_csv('data/po_dnevih.csv', sep=\";\")\n",
    "udelezenci=pd.read_csv('data/po_vrstah_udelezencev.csv', sep=\";\")\n",
    "ceste=pd.read_csv('data/po_vrsti_ceste.csv', sep=\";\")\n",
    "meseci=pd.read_csv('data/po_mesecih.csv', sep=\";\")\n",
    "regije=pd.read_csv('data/po_regijah.csv', sep=\";\")\n",
    "lokacije=pd.read_csv('data/po_lokaciji.csv', sep=\";\")\n",
    "ura=pd.read_csv('data/po_urah.csv', sep=\";\")\n",
    "alkohol=pd.read_csv('data/alkohol.csv', sep=\";\")"
   ]
  },
  {
   "cell_type": "markdown",
   "metadata": {},
   "source": [
    "#### Zamenjava manjkajočih podatkov s povprečjem:"
   ]
  },
  {
   "cell_type": "code",
   "execution_count": 5,
   "metadata": {},
   "outputs": [],
   "source": [
    "alkohol[\"Stopnje alkoholiziranosti 0,80 in več\"].fillna(alkohol.groupby(\"Kategorija\")[\"Stopnje alkoholiziranosti 0,80 in več\"].transform(\"mean\"), inplace=True)\n",
    "alkohol[\"Stopnje alkoholiziranosti 0,80 in več\"] = alkohol[\"Stopnje alkoholiziranosti 0,80 in več\"].astype(int)"
   ]
  },
  {
   "cell_type": "markdown",
   "metadata": {},
   "source": [
    "#### Izračun števila prometnih nesreč po dnevih v tednu, razdeljenih po vrsti nesreče in izris grafa:"
   ]
  },
  {
   "cell_type": "code",
   "execution_count": 6,
   "metadata": {},
   "outputs": [],
   "source": [
    "# \n",
    "dnevi_sum = dnevi.groupby(['Dan v tednu'], as_index = False).agg({'Prometne nesreče s smrtnim izidom': [np.sum],\n",
    "                                                                  'Prometne nesreče s telesno poškodbo': [np.sum],\n",
    "                                                                  'Prometne nesreče z materialno škodo': [np.sum],\n",
    "                                                                  'Prometne nesreče - SKUPAJ': [np.sum]\n",
    "                                                                 }) \n",
    "\n",
    "dnevi_sum.columns = [\"dan_v_tednu\", \"st_smrt\", \"st_telesna_poskodba\", \"st_materialna_skoda\", \"skupaj\"] \n",
    "dnevi_max=dnevi_sum.iloc[dnevi_sum[\"skupaj\"].idxmax()][\"dan_v_tednu\"]\n",
    "dnevi_sum = dnevi_sum.sort_values(by=\"skupaj\", ascending=[False])\n",
    "dnevi_sum;"
   ]
  },
  {
   "cell_type": "code",
   "execution_count": 7,
   "metadata": {},
   "outputs": [
    {
     "data": {
      "text/plain": [
       "'Petek'"
      ]
     },
     "execution_count": 7,
     "metadata": {},
     "output_type": "execute_result"
    }
   ],
   "source": [
    "dnevi_max"
   ]
  },
  {
   "cell_type": "code",
   "execution_count": 8,
   "metadata": {},
   "outputs": [
    {
     "data": {
      "application/vnd.plotly.v1+json": {
       "data": [
        {
         "marker": {
          "color": "#000000"
         },
         "name": "Število nesreč s smrtnim izidom",
         "orientation": "h",
         "type": "bar",
         "x": [
          316,
          289,
          256,
          244,
          379,
          299,
          362
         ],
         "y": [
          "Petek",
          "Četrtek",
          "Sreda",
          "Torek",
          "Sobota",
          "Ponedeljek",
          "Nedelja"
         ]
        },
        {
         "marker": {
          "color": "#FF2222"
         },
         "name": "Število nesreč telesnih poškodb",
         "orientation": "h",
         "type": "bar",
         "x": [
          17686,
          15416,
          15276,
          15513,
          15374,
          15146,
          12762
         ],
         "y": [
          "Petek",
          "Četrtek",
          "Sreda",
          "Torek",
          "Sobota",
          "Ponedeljek",
          "Nedelja"
         ]
        },
        {
         "marker": {
          "color": "#AAAAAA"
         },
         "name": "Število nesreč z materialno škodo",
         "orientation": "h",
         "type": "bar",
         "x": [
          36423,
          31877,
          31562,
          31237,
          30683,
          30115,
          22853
         ],
         "y": [
          "Petek",
          "Četrtek",
          "Sreda",
          "Torek",
          "Sobota",
          "Ponedeljek",
          "Nedelja"
         ]
        }
       ],
       "layout": {
        "barmode": "stack"
       }
      },
      "text/html": [
       "<div id=\"9166b1c8-342b-4292-a96c-8789a73ea802\" style=\"height: 525px; width: 100%;\" class=\"plotly-graph-div\"></div><script type=\"text/javascript\">require([\"plotly\"], function(Plotly) { window.PLOTLYENV=window.PLOTLYENV || {};window.PLOTLYENV.BASE_URL=\"https://plot.ly\";Plotly.newPlot(\"9166b1c8-342b-4292-a96c-8789a73ea802\", [{\"type\": \"bar\", \"y\": [\"Petek\", \"\\u010cetrtek\", \"Sreda\", \"Torek\", \"Sobota\", \"Ponedeljek\", \"Nedelja\"], \"x\": [316, 289, 256, 244, 379, 299, 362], \"name\": \"\\u0160tevilo nesre\\u010d s smrtnim izidom\", \"orientation\": \"h\", \"marker\": {\"color\": \"#000000\"}}, {\"type\": \"bar\", \"y\": [\"Petek\", \"\\u010cetrtek\", \"Sreda\", \"Torek\", \"Sobota\", \"Ponedeljek\", \"Nedelja\"], \"x\": [17686, 15416, 15276, 15513, 15374, 15146, 12762], \"name\": \"\\u0160tevilo nesre\\u010d telesnih po\\u0161kodb\", \"orientation\": \"h\", \"marker\": {\"color\": \"#FF2222\"}}, {\"type\": \"bar\", \"y\": [\"Petek\", \"\\u010cetrtek\", \"Sreda\", \"Torek\", \"Sobota\", \"Ponedeljek\", \"Nedelja\"], \"x\": [36423, 31877, 31562, 31237, 30683, 30115, 22853], \"name\": \"\\u0160tevilo nesre\\u010d z materialno \\u0161kodo\", \"orientation\": \"h\", \"marker\": {\"color\": \"#AAAAAA\"}}], {\"barmode\": \"stack\"}, {\"showLink\": true, \"linkText\": \"Export to plot.ly\"})});</script>"
      ],
      "text/vnd.plotly.v1+html": [
       "<div id=\"9166b1c8-342b-4292-a96c-8789a73ea802\" style=\"height: 525px; width: 100%;\" class=\"plotly-graph-div\"></div><script type=\"text/javascript\">require([\"plotly\"], function(Plotly) { window.PLOTLYENV=window.PLOTLYENV || {};window.PLOTLYENV.BASE_URL=\"https://plot.ly\";Plotly.newPlot(\"9166b1c8-342b-4292-a96c-8789a73ea802\", [{\"type\": \"bar\", \"y\": [\"Petek\", \"\\u010cetrtek\", \"Sreda\", \"Torek\", \"Sobota\", \"Ponedeljek\", \"Nedelja\"], \"x\": [316, 289, 256, 244, 379, 299, 362], \"name\": \"\\u0160tevilo nesre\\u010d s smrtnim izidom\", \"orientation\": \"h\", \"marker\": {\"color\": \"#000000\"}}, {\"type\": \"bar\", \"y\": [\"Petek\", \"\\u010cetrtek\", \"Sreda\", \"Torek\", \"Sobota\", \"Ponedeljek\", \"Nedelja\"], \"x\": [17686, 15416, 15276, 15513, 15374, 15146, 12762], \"name\": \"\\u0160tevilo nesre\\u010d telesnih po\\u0161kodb\", \"orientation\": \"h\", \"marker\": {\"color\": \"#FF2222\"}}, {\"type\": \"bar\", \"y\": [\"Petek\", \"\\u010cetrtek\", \"Sreda\", \"Torek\", \"Sobota\", \"Ponedeljek\", \"Nedelja\"], \"x\": [36423, 31877, 31562, 31237, 30683, 30115, 22853], \"name\": \"\\u0160tevilo nesre\\u010d z materialno \\u0161kodo\", \"orientation\": \"h\", \"marker\": {\"color\": \"#AAAAAA\"}}], {\"barmode\": \"stack\"}, {\"showLink\": true, \"linkText\": \"Export to plot.ly\"})});</script>"
      ]
     },
     "metadata": {},
     "output_type": "display_data"
    }
   ],
   "source": [
    "# draws plot\n",
    "trace1 = go.Bar(\n",
    "    y=dnevi_sum[\"dan_v_tednu\"],\n",
    "    x=dnevi_sum[\"st_smrt\"],\n",
    "    name='Število nesreč s smrtnim izidom',\n",
    "    orientation = \"h\",\n",
    "    marker=dict(\n",
    "        color='#000000',\n",
    "    )\n",
    "    \n",
    ")\n",
    "trace2 = go.Bar(\n",
    "    y=dnevi_sum[\"dan_v_tednu\"],\n",
    "    x=dnevi_sum[\"st_telesna_poskodba\"],\n",
    "    name='Število nesreč telesnih poškodb',\n",
    "    orientation = \"h\",\n",
    "    marker=dict(\n",
    "        color='#FF2222',\n",
    "    )\n",
    ")\n",
    "trace3 = go.Bar(\n",
    "    y=dnevi_sum[\"dan_v_tednu\"],\n",
    "    x=dnevi_sum[\"st_materialna_skoda\"],\n",
    "    name='Število nesreč z materialno škodo',\n",
    "    orientation = \"h\",\n",
    "    marker=dict(\n",
    "        color='#AAAAAA',\n",
    "    )\n",
    ")\n",
    "\n",
    "data = [trace1, trace2, trace3]\n",
    "layout = go.Layout(\n",
    "    barmode='stack'\n",
    ")\n",
    "\n",
    "fig = go.Figure(data=data, layout=layout)\n",
    "iplot(fig, filename='stacked-bar')"
   ]
  },
  {
   "cell_type": "markdown",
   "metadata": {},
   "source": [
    "#### Izračun števila prometnih nesreč skozi leta in risanje grafa:"
   ]
  },
  {
   "cell_type": "code",
   "execution_count": 9,
   "metadata": {},
   "outputs": [],
   "source": [
    "# \n",
    "smrti_sum = dnevi.groupby(['leto'], as_index = False).agg({'Prometne nesreče s smrtnim izidom': [np.sum],\n",
    "                                                                  'Prometne nesreče s telesno poškodbo': [np.sum],\n",
    "                                                                  'Prometne nesreče z materialno škodo': [np.sum],\n",
    "                                                                  'Prometne nesreče - SKUPAJ': [np.sum]\n",
    "                                                                 }) \n",
    "\n",
    "smrti_sum.columns = [\"leto\", \"st_smrt\", \"st_telesna_poskodba\", \"st_materialna_skoda\", \"skupaj\"]    \n",
    "smrti_sum = smrti_sum.sort_values(by=\"leto\", ascending=[False])\n",
    "smrti_sum;"
   ]
  },
  {
   "cell_type": "code",
   "execution_count": 10,
   "metadata": {},
   "outputs": [
    {
     "data": {
      "application/vnd.plotly.v1+json": {
       "data": [
        {
         "marker": {
          "color": "#000000"
         },
         "type": "scatter",
         "x": [
          2014,
          2013,
          2012,
          2011,
          2010,
          2009,
          2008,
          2007,
          2006,
          2005,
          2004,
          2003
         ],
         "y": [
          97,
          116,
          122,
          129,
          127,
          154,
          200,
          263,
          233,
          230,
          254,
          220
         ]
        }
       ],
       "layout": {}
      },
      "text/html": [
       "<div id=\"fea070d6-7df6-46d0-9c6c-81bf90b53f65\" style=\"height: 525px; width: 100%;\" class=\"plotly-graph-div\"></div><script type=\"text/javascript\">require([\"plotly\"], function(Plotly) { window.PLOTLYENV=window.PLOTLYENV || {};window.PLOTLYENV.BASE_URL=\"https://plot.ly\";Plotly.newPlot(\"fea070d6-7df6-46d0-9c6c-81bf90b53f65\", [{\"type\": \"scatter\", \"x\": [2014, 2013, 2012, 2011, 2010, 2009, 2008, 2007, 2006, 2005, 2004, 2003], \"y\": [97, 116, 122, 129, 127, 154, 200, 263, 233, 230, 254, 220], \"marker\": {\"color\": \"#000000\"}}], {}, {\"showLink\": true, \"linkText\": \"Export to plot.ly\"})});</script>"
      ],
      "text/vnd.plotly.v1+html": [
       "<div id=\"fea070d6-7df6-46d0-9c6c-81bf90b53f65\" style=\"height: 525px; width: 100%;\" class=\"plotly-graph-div\"></div><script type=\"text/javascript\">require([\"plotly\"], function(Plotly) { window.PLOTLYENV=window.PLOTLYENV || {};window.PLOTLYENV.BASE_URL=\"https://plot.ly\";Plotly.newPlot(\"fea070d6-7df6-46d0-9c6c-81bf90b53f65\", [{\"type\": \"scatter\", \"x\": [2014, 2013, 2012, 2011, 2010, 2009, 2008, 2007, 2006, 2005, 2004, 2003], \"y\": [97, 116, 122, 129, 127, 154, 200, 263, 233, 230, 254, 220], \"marker\": {\"color\": \"#000000\"}}], {}, {\"showLink\": true, \"linkText\": \"Export to plot.ly\"})});</script>"
      ]
     },
     "metadata": {},
     "output_type": "display_data"
    }
   ],
   "source": [
    "# Create a trace\n",
    "trace = go.Scatter(\n",
    "    x = smrti_sum[\"leto\"],\n",
    "    y = smrti_sum[\"st_smrt\"],\n",
    "    marker=dict(\n",
    "        color='#000000',\n",
    "    )\n",
    ")\n",
    "\n",
    "data = [trace]\n",
    "iplot(data, filename='basic-line')"
   ]
  },
  {
   "cell_type": "markdown",
   "metadata": {},
   "source": [
    "#### Osnutek po regijah razdeljenega zemljevida, ki ga bomo uporabili v kasnejši fazi:"
   ]
  },
  {
   "cell_type": "code",
   "execution_count": 11,
   "metadata": {},
   "outputs": [
    {
     "data": {
      "text/html": [
       "<iframe id=\"map\", srcdoc=\"<!DOCTYPE html>\n",
       "<html>\n",
       "<head>\n",
       "<title>mapboxgl-jupyter viz</title>\n",
       "<meta charset='UTF-8' />\n",
       "<meta name='viewport'\n",
       "      content='initial-scale=1,maximum-scale=1,user-scalable=no' />\n",
       "<script type='text/javascript'\n",
       "        src='https://api.tiles.mapbox.com/mapbox-gl-js/v0.44.1/mapbox-gl.js'></script>\n",
       "<link type='text/css'\n",
       "      href='https://api.tiles.mapbox.com/mapbox-gl-js/v0.44.1/mapbox-gl.css' rel='stylesheet' />\n",
       "<style type='text/css'>\n",
       "    body { margin:0; padding:0; }\n",
       "    .map { position:absolute; top:0; bottom:0; width:100%; }\n",
       "    .legend {\n",
       "        background-color: white;\n",
       "        color: black;\n",
       "        border-radius: 3px;\n",
       "        bottom: 50px;\n",
       "        width: 100px;\n",
       "        box-shadow: 0 1px 2px rgba(0, 0, 0, 0.10);\n",
       "        font: 12px/20px 'Helvetica Neue', Arial, Helvetica, sans-serif;\n",
       "        padding: 12px;\n",
       "        position: absolute;\n",
       "        right: 10px;\n",
       "        z-index: 1;\n",
       "    }\n",
       "    .legend h4 { margin: 0 0 10px; }\n",
       "    .legend-title {\n",
       "        margin: 6px;\n",
       "        padding: 6px;\n",
       "        font-weight: bold !important;\n",
       "        font-size: 14px;\n",
       "        font: 12px/20px 'Helvetica Neue', Arial, Helvetica, sans-serif;\n",
       "    }\n",
       "    .legend div span {\n",
       "        border-radius: 50%;\n",
       "        display: inline-block;\n",
       "        height: 10px;\n",
       "        margin-right: 5px;\n",
       "        width: 10px;\n",
       "    }\n",
       "</style>\n",
       "\n",
       "    <style type='text/css'>\n",
       "        .legend div span { border-radius: 20%; }\n",
       "    </style>\n",
       "\n",
       "</head>\n",
       "<body>\n",
       "\n",
       "<div id='map' class='map'></div>\n",
       "<div id='legend' class='legend'></div>\n",
       "\n",
       "<script type='text/javascript'>\n",
       "\n",
       "function calcCircleColorLegend(myColorStops, title) {\n",
       "    //Calculate a legend element on a Mapbox GL Style Spec property function stops array\n",
       "    var mytitle = document.createElement('div');\n",
       "    mytitle.textContent = title;\n",
       "    mytitle.className = 'legend-title'\n",
       "    var legend = document.getElementById('legend');\n",
       "    legend.appendChild(mytitle);\n",
       "\n",
       "    for (p = 0; p < myColorStops.length; p++) {\n",
       "        if (!!document.getElementById('legend-points-value-' + p)) {\n",
       "            //update the legend if it already exists\n",
       "            document.getElementById('legend-points-value-' + p).textContent = myColorStops[p][0];\n",
       "            document.getElementById('legend-points-id-' + p).style.backgroundColor = myColorStops[p][1];\n",
       "        } else {\n",
       "            //create the legend if it doesn't yet exist\n",
       "            var item = document.createElement('div');\n",
       "            var key = document.createElement('span');\n",
       "            key.className = 'legend-key';\n",
       "            var value = document.createElement('span');\n",
       "\n",
       "            key.id = 'legend-points-id-' + p;\n",
       "            key.style.backgroundColor = myColorStops[p][1];\n",
       "            value.id = 'legend-points-value-' + p;\n",
       "\n",
       "            item.appendChild(key);\n",
       "            item.appendChild(value);\n",
       "            legend.appendChild(item);\n",
       "            \n",
       "            data = document.getElementById('legend-points-value-' + p)\n",
       "            data.textContent = myColorStops[p][0];\n",
       "        }\n",
       "    }\n",
       "}\n",
       "\n",
       "function generateInterpolateExpression(propertyValue, stops) {\n",
       "    var expression;\n",
       "    if (propertyValue == 'zoom') {\n",
       "        expression = ['interpolate', ['exponential', 1.2], ['zoom']]\n",
       "    }\n",
       "    else if (propertyValue == 'heatmap-density') {\n",
       "        expression = ['interpolate', ['exponential', 1.2], ['heatmap-density']]\n",
       "    }\n",
       "    else {\n",
       "        expression = ['interpolate', ['exponential', 1.2], ['get', propertyValue]]\n",
       "    }\n",
       "\n",
       "    for (var i=0; i<stops.length; i++) {\n",
       "        expression.push(stops[i][0], stops[i][1])\n",
       "    }\n",
       "    return expression\n",
       "}\n",
       "\n",
       "\n",
       "function generateMatchExpression(propertyValue, stops, defaultValue) {\n",
       "    var expression;\n",
       "    expression = ['match', ['get', propertyValue]]\n",
       "    for (var i=0; i<stops.length; i++) {\n",
       "        expression.push(stops[i][0], stops[i][1])\n",
       "    }\n",
       "    expression.push(defaultValue)\n",
       "    \n",
       "    return expression\n",
       "}\n",
       "\n",
       "\n",
       "function generatePropertyExpression(expressionType, propertyValue, stops, defaultValue) {\n",
       "    var expression;\n",
       "    if (expressionType == 'match') {\n",
       "        expression = generateMatchExpression(propertyValue, stops, defaultValue)\n",
       "    }\n",
       "    else {\n",
       "        expression = generateInterpolateExpression(propertyValue, stops)\n",
       "    }\n",
       "\n",
       "    return expression\n",
       "}\n",
       "\n",
       "\n",
       "</script>\n",
       "\n",
       "<!-- main map creation code, extended by mapboxgl/templates/choropleth.html -->\n",
       "<script type='text/javascript'>\n",
       "\n",
       "\n",
       "    mapboxgl.accessToken = 'pk.eyJ1IjoiaW1pbG9zayIsImEiOiJjamZ2b2toNTExbjUwMnFwZGs2bjN2c2R4In0.gd6IuS0fih6OpePAt3HmPw';\n",
       "\n",
       "    var map = new mapboxgl.Map({\n",
       "        container: 'map',\n",
       "        style: 'mapbox://styles/mapbox/light-v9?optimize=true',\n",
       "        center: [14.9955, 46.1512],\n",
       "        zoom: 7,\n",
       "        transformRequest: (url, resourceType)=> {\n",
       "            if ( url.slice(0,22) == 'https://api.mapbox.com' ) {\n",
       "                //Add Python Plugin identifier for Mapbox API traffic\n",
       "                return {\n",
       "                   url: [url.slice(0, url.indexOf('?')+1), 'pluginName=PythonMapboxgl&', url.slice(url.indexOf('?')+1)].join('')\n",
       "                 }\n",
       "             }\n",
       "             else {\n",
       "                 //Do not transform URL for non Mapbox GET requests\n",
       "                 return {url: url}\n",
       "             }\n",
       "        }\n",
       "    });\n",
       "\n",
       "    \n",
       "\n",
       "        map.addControl(new mapboxgl.NavigationControl());\n",
       "\n",
       "    \n",
       "\n",
       "    \n",
       "\n",
       "    var legend = document.getElementById('legend');\n",
       "    calcCircleColorLegend([[0, 'rgb(255,255,178)'], [50, 'rgb(254,204,92)'], [100, 'rgb(253,141,60)'], [500, 'rgb(240,59,32)'], [1500, 'rgb(189,0,38)']], 'density');\n",
       "\n",
       "\n",
       "\n",
       "    \n",
       "\n",
       "    map.on('style.load', function() {\n",
       "        \n",
       "        \n",
       "\n",
       "        // Add geojson data source\n",
       "        map.addSource('data', {\n",
       "            'type': 'geojson',\n",
       "            'data': 'https://gist.githubusercontent.com/imilosk/47013ab15f8a329b0497853f95d081d5/raw/48d364de4c88b0fc6fbd9e42012b47f87def285d/slovenia.json',\n",
       "            'buffer': 1,\n",
       "            'maxzoom': 14\n",
       "        });\n",
       "\n",
       "        // Add data layer\n",
       "        map.addLayer({\n",
       "            'id': 'choropleth-fill',\n",
       "            'source': 'data',\n",
       "            'type': 'fill',\n",
       "            'paint': {\n",
       "                'fill-color': generatePropertyExpression('interpolate', 'density', [[0, 'rgb(255,255,178)'], [50, 'rgb(254,204,92)'], [100, 'rgb(253,141,60)'], [500, 'rgb(240,59,32)'], [1500, 'rgb(189,0,38)']], 'grey'),\n",
       "                'fill-opacity': 0.5\n",
       "            }\n",
       "        }, 'waterway-label' );\n",
       "\n",
       "        // Add border layer\n",
       "        map.addLayer({\n",
       "            'id': 'choropleth-line',\n",
       "            'source': 'data',\n",
       "            'type': 'line',\n",
       "            'layout': {\n",
       "                'line-join': 'round',\n",
       "                'line-cap': 'round'\n",
       "            },\n",
       "            'paint': {\n",
       "                \n",
       "                'line-dasharray': [6, 4],\n",
       "                \n",
       "                'line-color': '#ff3300',\n",
       "                'line-width': 1,\n",
       "                'line-opacity': 0.5\n",
       "            }\n",
       "        }, 'waterway-label' );\n",
       "\n",
       "        // Add label layer\n",
       "        map.addLayer({\n",
       "            'id': 'choropleth-label',\n",
       "            'source': 'data',\n",
       "            'type': 'symbol',\n",
       "            'layout': {\n",
       "                \n",
       "                'text-size' : generateInterpolateExpression('zoom', [[0,8],[22,16]] ),\n",
       "                'text-offset': [0,-1]\n",
       "            },\n",
       "            'paint': {\n",
       "                'text-halo-color': 'white',\n",
       "                'text-halo-width': 1\n",
       "            }\n",
       "        }, 'waterway-label' );\n",
       "\n",
       "        \n",
       "\n",
       "        // Create a popup\n",
       "        var popup = new mapboxgl.Popup({\n",
       "            closeButton: false,\n",
       "            closeOnClick: false\n",
       "        });\n",
       "        \n",
       "        \n",
       "\n",
       "        // Show the popup on mouseover\n",
       "        map.on('mousemove', 'choropleth-fill', function(e) {\n",
       "            map.getCanvas().style.cursor = 'pointer';\n",
       "            \n",
       "            let f = e.features[0];\n",
       "            let popup_html = '<div>';\n",
       "\n",
       "            for (key in f.properties) {\n",
       "                popup_html += '<li><b> ' + key + '</b>: ' + f.properties[key] + ' </li>'\n",
       "            }\n",
       "\n",
       "            popup_html += '</div>'\n",
       "            popup.setLngLat(e.lngLat)\n",
       "                .setHTML(popup_html)\n",
       "                .addTo(map);\n",
       "        });\n",
       "\n",
       "        \n",
       "\n",
       "        map.on('mouseleave', 'choropleth-fill', function() {\n",
       "            map.getCanvas().style.cursor = '';\n",
       "            popup.remove();\n",
       "        });\n",
       "        \n",
       "        // Fly to on click\n",
       "        map.on('click', 'choropleth-fill', function(e) {\n",
       "            map.flyTo({\n",
       "                center: e.lngLat,\n",
       "                zoom: map.getZoom() + 1\n",
       "            });\n",
       "        });\n",
       "\n",
       "    });\n",
       "\n",
       "\n",
       "\n",
       "\n",
       "</script>\n",
       "\n",
       "</body>\n",
       "</html>\" style=\"width: 100%; height: 500px;\"></iframe>"
      ],
      "text/plain": [
       "<IPython.core.display.HTML object>"
      ]
     },
     "metadata": {},
     "output_type": "display_data"
    }
   ],
   "source": [
    "token = \"pk.eyJ1IjoiaW1pbG9zayIsImEiOiJjamZ2b2toNTExbjUwMnFwZGs2bjN2c2R4In0.gd6IuS0fih6OpePAt3HmPw\"\n",
    "\n",
    "# create choropleth from polygon features stored as GeoJSON\n",
    "viz = ChoroplethViz('https://gist.githubusercontent.com/imilosk/47013ab15f8a329b0497853f95d081d5/raw/48d364de4c88b0fc6fbd9e42012b47f87def285d/slovenia.json', \n",
    "                     color_property='density',\n",
    "                     access_token=token,\n",
    "                     color_stops=create_color_stops([0, 50, 100, 500, 1500], colors='YlOrRd'),\n",
    "                     color_function_type='interpolate',\n",
    "                     line_stroke='--',\n",
    "                     line_color='#ff3300',\n",
    "                     line_width=1,\n",
    "                     opacity=0.5,\n",
    "                     center=(14.9955, 46.1512),\n",
    "                     zoom=7,\n",
    "                     below_layer='waterway-label'\n",
    "                    )\n",
    "viz.show()"
   ]
  },
  {
   "cell_type": "markdown",
   "metadata": {},
   "source": [
    "#### Izračun in izris podatkov o alkoholiziranosti različnih udeležencev prometa:"
   ]
  },
  {
   "cell_type": "code",
   "execution_count": 12,
   "metadata": {},
   "outputs": [],
   "source": [
    "# \n",
    "alko_sum = alkohol.groupby(['Kategorija'], as_index = False).agg({'Stopnje alkoholiziranosti 0,50 in več': [np.sum],\n",
    "                                                                  'Stopnje alkoholiziranosti 0,80 in več': [np.sum],\n",
    "                                                                  'Stopnje alkoholiziranosti 1,50 in več': [np.sum],\n",
    "                                                                  'Število alkoholiziranih udeležencev - SKUPAJ': [np.sum]\n",
    "                                                                 }) \n",
    "\n",
    "alko_sum.columns = [\"kategorija\",\"alko_05\", \"alko_08\", \"alko_15\", \"skupaj\"]\n",
    "\n",
    "alko_sum = alko_sum.sort_values(by=\"skupaj\", ascending=[False])\n",
    "alko_sum = alko_sum.drop([0, 3, 9])\n",
    "#alko_max = alko_sum[\"kategorija\"][alko_sum[\"skupaj\"].idxmax()][\"kategorija\"]\n",
    "alko_max=alko_sum[\"kategorija\"][8]"
   ]
  },
  {
   "cell_type": "code",
   "execution_count": 13,
   "metadata": {},
   "outputs": [
    {
     "data": {
      "application/vnd.plotly.v1+json": {
       "data": [
        {
         "name": "Stopnje alkoholiziranosti 0,50 in več",
         "type": "bar",
         "x": [
          "Vozniki osebnih avtomobilov",
          "Kolesarji",
          "Vozniki mopedov in koles z motorjem",
          "Vozniki motornih koles",
          "Pešci",
          "Drugi",
          "Vozniki drugih motornih vozil"
         ],
         "y": [
          344,
          75,
          50,
          38,
          29,
          35,
          19
         ]
        },
        {
         "name": "Stopnje alkoholiziranosti 0,80 in več",
         "type": "bar",
         "x": [
          "Vozniki osebnih avtomobilov",
          "Kolesarji",
          "Vozniki mopedov in koles z motorjem",
          "Vozniki motornih koles",
          "Pešci",
          "Drugi",
          "Vozniki drugih motornih vozil"
         ],
         "y": [
          1302,
          280,
          157,
          183,
          92,
          106,
          33
         ]
        },
        {
         "name": "Stopnje alkoholiziranosti 1,50 in več",
         "type": "bar",
         "x": [
          "Vozniki osebnih avtomobilov",
          "Kolesarji",
          "Vozniki mopedov in koles z motorjem",
          "Vozniki motornih koles",
          "Pešci",
          "Drugi",
          "Vozniki drugih motornih vozil"
         ],
         "y": [
          1641,
          601,
          296,
          158,
          159,
          107,
          73
         ]
        }
       ],
       "layout": {
        "barmode": "group"
       }
      },
      "text/html": [
       "<div id=\"e5a93de7-216f-40b8-9454-cedb72659b90\" style=\"height: 525px; width: 100%;\" class=\"plotly-graph-div\"></div><script type=\"text/javascript\">require([\"plotly\"], function(Plotly) { window.PLOTLYENV=window.PLOTLYENV || {};window.PLOTLYENV.BASE_URL=\"https://plot.ly\";Plotly.newPlot(\"e5a93de7-216f-40b8-9454-cedb72659b90\", [{\"type\": \"bar\", \"x\": [\"Vozniki osebnih avtomobilov\", \"Kolesarji\", \"Vozniki mopedov in koles z motorjem\", \"Vozniki motornih koles\", \"Pe\\u0161ci\", \"Drugi\", \"Vozniki drugih motornih vozil\"], \"y\": [344, 75, 50, 38, 29, 35, 19], \"name\": \"Stopnje alkoholiziranosti 0,50 in ve\\u010d\"}, {\"type\": \"bar\", \"x\": [\"Vozniki osebnih avtomobilov\", \"Kolesarji\", \"Vozniki mopedov in koles z motorjem\", \"Vozniki motornih koles\", \"Pe\\u0161ci\", \"Drugi\", \"Vozniki drugih motornih vozil\"], \"y\": [1302, 280, 157, 183, 92, 106, 33], \"name\": \"Stopnje alkoholiziranosti 0,80 in ve\\u010d\"}, {\"type\": \"bar\", \"x\": [\"Vozniki osebnih avtomobilov\", \"Kolesarji\", \"Vozniki mopedov in koles z motorjem\", \"Vozniki motornih koles\", \"Pe\\u0161ci\", \"Drugi\", \"Vozniki drugih motornih vozil\"], \"y\": [1641, 601, 296, 158, 159, 107, 73], \"name\": \"Stopnje alkoholiziranosti 1,50 in ve\\u010d\"}], {\"barmode\": \"group\"}, {\"showLink\": true, \"linkText\": \"Export to plot.ly\"})});</script>"
      ],
      "text/vnd.plotly.v1+html": [
       "<div id=\"e5a93de7-216f-40b8-9454-cedb72659b90\" style=\"height: 525px; width: 100%;\" class=\"plotly-graph-div\"></div><script type=\"text/javascript\">require([\"plotly\"], function(Plotly) { window.PLOTLYENV=window.PLOTLYENV || {};window.PLOTLYENV.BASE_URL=\"https://plot.ly\";Plotly.newPlot(\"e5a93de7-216f-40b8-9454-cedb72659b90\", [{\"type\": \"bar\", \"x\": [\"Vozniki osebnih avtomobilov\", \"Kolesarji\", \"Vozniki mopedov in koles z motorjem\", \"Vozniki motornih koles\", \"Pe\\u0161ci\", \"Drugi\", \"Vozniki drugih motornih vozil\"], \"y\": [344, 75, 50, 38, 29, 35, 19], \"name\": \"Stopnje alkoholiziranosti 0,50 in ve\\u010d\"}, {\"type\": \"bar\", \"x\": [\"Vozniki osebnih avtomobilov\", \"Kolesarji\", \"Vozniki mopedov in koles z motorjem\", \"Vozniki motornih koles\", \"Pe\\u0161ci\", \"Drugi\", \"Vozniki drugih motornih vozil\"], \"y\": [1302, 280, 157, 183, 92, 106, 33], \"name\": \"Stopnje alkoholiziranosti 0,80 in ve\\u010d\"}, {\"type\": \"bar\", \"x\": [\"Vozniki osebnih avtomobilov\", \"Kolesarji\", \"Vozniki mopedov in koles z motorjem\", \"Vozniki motornih koles\", \"Pe\\u0161ci\", \"Drugi\", \"Vozniki drugih motornih vozil\"], \"y\": [1641, 601, 296, 158, 159, 107, 73], \"name\": \"Stopnje alkoholiziranosti 1,50 in ve\\u010d\"}], {\"barmode\": \"group\"}, {\"showLink\": true, \"linkText\": \"Export to plot.ly\"})});</script>"
      ]
     },
     "metadata": {},
     "output_type": "display_data"
    }
   ],
   "source": [
    "trace1 = go.Bar(\n",
    "    x=alko_sum[\"kategorija\"],\n",
    "    y=alko_sum[\"alko_05\"],\n",
    "    name='Stopnje alkoholiziranosti 0,50 in več'\n",
    ")\n",
    "trace2 = go.Bar(\n",
    "    x=alko_sum[\"kategorija\"],\n",
    "    y=alko_sum[\"alko_08\"],\n",
    "    name='Stopnje alkoholiziranosti 0,80 in več'\n",
    ")\n",
    "trace3 = go.Bar(\n",
    "    x=alko_sum[\"kategorija\"],\n",
    "    y=alko_sum[\"alko_15\"],\n",
    "    name='Stopnje alkoholiziranosti 1,50 in več'\n",
    ")\n",
    "\n",
    "data = [trace1, trace2, trace3]\n",
    "layout = go.Layout(\n",
    "    barmode='group'\n",
    ")\n",
    "\n",
    "fig = go.Figure(data=data, layout=layout)\n",
    "iplot(fig, filename='grouped-bar')"
   ]
  },
  {
   "cell_type": "markdown",
   "metadata": {},
   "source": [
    "#### Izračun porazdelitve prometnih nesreč skozi dan:"
   ]
  },
  {
   "cell_type": "code",
   "execution_count": 14,
   "metadata": {},
   "outputs": [],
   "source": [
    "ura_avg = ura.groupby(['Ura v dnevu'], as_index = False).agg({'Prometne nesreče - SKUPAJ': [np.sum]}) \n",
    "\n",
    "ura_avg.columns = [\"Ura v dnevu\",\"sum\"]\n",
    "ura_max=ura_avg.iloc[ura_avg[\"sum\"].idxmax()][\"Ura v dnevu\"]\n",
    "\n",
    "ura_avg[\"sum\"]=ura_avg[\"sum\"]/(365*11+3)"
   ]
  },
  {
   "cell_type": "code",
   "execution_count": 15,
   "metadata": {},
   "outputs": [
    {
     "data": {
      "application/vnd.plotly.v1+json": {
       "data": [
        {
         "marker": {
          "color": "#2b8cbe"
         },
         "type": "bar",
         "x": [
          0,
          1,
          2,
          3,
          4,
          5,
          6,
          7,
          8,
          9,
          10,
          11,
          12,
          13,
          14,
          15,
          16,
          17,
          18,
          19,
          20,
          21,
          22,
          23
         ],
         "y": [
          1.182429069188651,
          0.9840716774514684,
          0.835490293678447,
          0.7901941264310602,
          0.8337481333997013,
          1.660776505724241,
          2.918865107018417,
          3.550024888003982,
          3.548780487804878,
          3.951219512195122,
          4.5014932802389245,
          4.773021403683424,
          4.590094574415132,
          4.989547038327526,
          5.822050771528123,
          6.014683922349428,
          5.393230462916874,
          5.009457441513191,
          4.814086610253858,
          4.104031856645097,
          3.402439024390244,
          2.9193628670980587,
          2.3698357391737184,
          1.6951219512195121
         ]
        }
       ],
       "layout": {}
      },
      "text/html": [
       "<div id=\"a9dd2e68-9920-4a4c-9d70-8139efe19bb2\" style=\"height: 525px; width: 100%;\" class=\"plotly-graph-div\"></div><script type=\"text/javascript\">require([\"plotly\"], function(Plotly) { window.PLOTLYENV=window.PLOTLYENV || {};window.PLOTLYENV.BASE_URL=\"https://plot.ly\";Plotly.newPlot(\"a9dd2e68-9920-4a4c-9d70-8139efe19bb2\", [{\"type\": \"bar\", \"x\": [0, 1, 2, 3, 4, 5, 6, 7, 8, 9, 10, 11, 12, 13, 14, 15, 16, 17, 18, 19, 20, 21, 22, 23], \"y\": [1.182429069188651, 0.9840716774514684, 0.835490293678447, 0.7901941264310602, 0.8337481333997013, 1.660776505724241, 2.918865107018417, 3.550024888003982, 3.548780487804878, 3.951219512195122, 4.5014932802389245, 4.773021403683424, 4.590094574415132, 4.989547038327526, 5.822050771528123, 6.014683922349428, 5.393230462916874, 5.009457441513191, 4.814086610253858, 4.104031856645097, 3.402439024390244, 2.9193628670980587, 2.3698357391737184, 1.6951219512195121], \"marker\": {\"color\": \"#2b8cbe\"}}], {}, {\"showLink\": true, \"linkText\": \"Export to plot.ly\"})});</script>"
      ],
      "text/vnd.plotly.v1+html": [
       "<div id=\"a9dd2e68-9920-4a4c-9d70-8139efe19bb2\" style=\"height: 525px; width: 100%;\" class=\"plotly-graph-div\"></div><script type=\"text/javascript\">require([\"plotly\"], function(Plotly) { window.PLOTLYENV=window.PLOTLYENV || {};window.PLOTLYENV.BASE_URL=\"https://plot.ly\";Plotly.newPlot(\"a9dd2e68-9920-4a4c-9d70-8139efe19bb2\", [{\"type\": \"bar\", \"x\": [0, 1, 2, 3, 4, 5, 6, 7, 8, 9, 10, 11, 12, 13, 14, 15, 16, 17, 18, 19, 20, 21, 22, 23], \"y\": [1.182429069188651, 0.9840716774514684, 0.835490293678447, 0.7901941264310602, 0.8337481333997013, 1.660776505724241, 2.918865107018417, 3.550024888003982, 3.548780487804878, 3.951219512195122, 4.5014932802389245, 4.773021403683424, 4.590094574415132, 4.989547038327526, 5.822050771528123, 6.014683922349428, 5.393230462916874, 5.009457441513191, 4.814086610253858, 4.104031856645097, 3.402439024390244, 2.9193628670980587, 2.3698357391737184, 1.6951219512195121], \"marker\": {\"color\": \"#2b8cbe\"}}], {}, {\"showLink\": true, \"linkText\": \"Export to plot.ly\"})});</script>"
      ]
     },
     "metadata": {},
     "output_type": "display_data"
    }
   ],
   "source": [
    "# Create a trace\n",
    "trace = go.Bar(\n",
    "    x = ura_avg[\"Ura v dnevu\"],\n",
    "    y = ura_avg[\"sum\"],\n",
    "    marker=dict(\n",
    "        color='#2b8cbe',\n",
    "    )\n",
    ")\n",
    "\n",
    "data = [trace]\n",
    "iplot(data, filename='basic-bar')"
   ]
  },
  {
   "cell_type": "code",
   "execution_count": 16,
   "metadata": {},
   "outputs": [
    {
     "data": {
      "text/plain": [
       "'V naselju'"
      ]
     },
     "execution_count": 16,
     "metadata": {},
     "output_type": "execute_result"
    }
   ],
   "source": [
    "# \n",
    "lok_sum = lokacije.groupby([\"Lokacija\"], as_index = False).agg({'Prometne nesreče - SKUPAJ': [np.sum]}) \n",
    "\n",
    "lok_sum.columns = [\"kje\",\"skupaj\"]\n",
    "\n",
    "lok_sum\n",
    "lok_max = lok_sum.iloc[lok_sum[\"skupaj\"].idxmax()+1][\"kje\"]\n",
    "lok_max"
   ]
  },
  {
   "cell_type": "code",
   "execution_count": 17,
   "metadata": {},
   "outputs": [
    {
     "data": {
      "text/plain": [
       "'Oktober'"
      ]
     },
     "execution_count": 17,
     "metadata": {},
     "output_type": "execute_result"
    }
   ],
   "source": [
    "mes_sum = meseci.groupby([\"Mesec v letu\"], as_index = False).agg({'Prometne nesreče - SKUPAJ': [np.sum]}) \n",
    "\n",
    "mes_sum.columns = [\"mesec\",\"sum\"]\n",
    "\n",
    "mes_sum\n",
    "mes_max = mes_sum.iloc[mes_sum[\"sum\"].idxmax()][\"mesec\"]\n",
    "mes_max"
   ]
  },
  {
   "cell_type": "code",
   "execution_count": 18,
   "metadata": {},
   "outputs": [
    {
     "data": {
      "text/plain": [
       "'Osrednjeslovenska'"
      ]
     },
     "execution_count": 18,
     "metadata": {},
     "output_type": "execute_result"
    }
   ],
   "source": [
    "reg_sum = regije.groupby([\"Regija\"], as_index = False).agg({'Prometne nesreče - SKUPAJ': [np.sum]}) \n",
    "\n",
    "reg_sum.columns = [\"regija\",\"sum\"]\n",
    "\n",
    "reg_sum\n",
    "reg_max = reg_sum.iloc[reg_sum[\"sum\"].idxmax()][\"regija\"]\n",
    "reg_max"
   ]
  },
  {
   "cell_type": "code",
   "execution_count": 19,
   "metadata": {},
   "outputs": [
    {
     "data": {
      "text/plain": [
       "'Vrste udeležencev - SKUPAJ'"
      ]
     },
     "execution_count": 19,
     "metadata": {},
     "output_type": "execute_result"
    }
   ],
   "source": [
    "\n",
    "udl_sum = udelezenci.groupby([\"Udeleženci\"], as_index = False).agg({'Število udeležencev - SKUPAJ': [np.sum]}) \n",
    "\n",
    "udl_sum.columns = [\"udel\",\"sum\"]\n",
    "\n",
    "udl_sum\n",
    "udl_max = udl_sum.iloc[udl_sum[\"sum\"].idxmax()][\"udel\"]\n",
    "udl_max"
   ]
  },
  {
   "cell_type": "code",
   "execution_count": 20,
   "metadata": {},
   "outputs": [
    {
     "name": "stdout",
     "output_type": "stream",
     "text": [
      "Vozniki osebnih avtomobilov , Petek , V naselju , Oktober , Osrednjeslovenska ,  15  , Vrste udeležencev - SKUPAJ\n"
     ]
    }
   ],
   "source": [
    "#alkohol, dan, kje, mesec, regija, ura, kdo, cesta\n",
    "print(alko_max+\" , \"+dnevi_max+\" , \"+lok_max+\" , \"+ mes_max+ \" , \"+reg_max+\" , \",ura_max,\" , \"+udl_max)"
   ]
  }
 ],
 "metadata": {
  "kernelspec": {
   "display_name": "Python 3",
   "language": "python",
   "name": "python3"
  },
  "language_info": {
   "codemirror_mode": {
    "name": "ipython",
    "version": 3
   },
   "file_extension": ".py",
   "mimetype": "text/x-python",
   "name": "python",
   "nbconvert_exporter": "python",
   "pygments_lexer": "ipython3",
   "version": "3.6.4"
  }
 },
 "nbformat": 4,
 "nbformat_minor": 2
}

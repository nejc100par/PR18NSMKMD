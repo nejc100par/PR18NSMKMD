{
 "cells": [
  {
   "cell_type": "markdown",
   "metadata": {},
   "source": [
    "# Analiza prometnih nesreč v Sloveniji"
   ]
  },
  {
   "cell_type": "code",
   "execution_count": 1,
   "metadata": {},
   "outputs": [],
   "source": [
    "import numpy as np\n",
    "import pandas as pd"
   ]
  },
  {
   "cell_type": "code",
   "execution_count": 2,
   "metadata": {},
   "outputs": [
    {
     "data": {
      "text/html": [
       "<script>requirejs.config({paths: { 'plotly': ['https://cdn.plot.ly/plotly-latest.min']},});if(!window.Plotly) {{require(['plotly'],function(plotly) {window.Plotly=plotly;});}}</script>"
      ],
      "text/vnd.plotly.v1+html": [
       "<script>requirejs.config({paths: { 'plotly': ['https://cdn.plot.ly/plotly-latest.min']},});if(!window.Plotly) {{require(['plotly'],function(plotly) {window.Plotly=plotly;});}}</script>"
      ]
     },
     "metadata": {},
     "output_type": "display_data"
    }
   ],
   "source": [
    "import plotly.graph_objs as go\n",
    "from plotly.offline import download_plotlyjs, init_notebook_mode, plot, iplot\n",
    "init_notebook_mode(connected=True)"
   ]
  },
  {
   "cell_type": "markdown",
   "metadata": {},
   "source": [
    "Uvoz podatkov:"
   ]
  },
  {
   "cell_type": "code",
   "execution_count": 3,
   "metadata": {},
   "outputs": [],
   "source": [
    "dnevi=pd.read_csv('data/po_dnevih.csv', sep=\";\")#\n",
    "udelezenci=pd.read_csv('data/po_vrstah_udelezencev.csv', sep=\";\")\n",
    "ceste=pd.read_csv('data/po_vrsti_ceste.csv', sep=\";\")\n",
    "meseci=pd.read_csv('data/po_mesecih.csv', sep=\";\")\n",
    "regije=pd.read_csv('data/po_regijah.csv', sep=\";\")\n",
    "lokacije=pd.read_csv('data/po_lokaciji.csv', sep=\";\")\n",
    "ura=pd.read_csv('data/po_urah.csv', sep=\";\")\n",
    "alkohol=pd.read_csv('data/alkohol.csv', sep=\";\")"
   ]
  },
  {
   "cell_type": "markdown",
   "metadata": {},
   "source": [
    "Zamenjava manjkajočih podatkov s povprečjem:"
   ]
  },
  {
   "cell_type": "code",
   "execution_count": 4,
   "metadata": {},
   "outputs": [],
   "source": [
    "alkohol[\"Stopnje alkoholiziranosti 0,80 in več\"].fillna(alkohol.groupby(\"Kategorija\")[\"Stopnje alkoholiziranosti 0,80 in več\"].transform(\"mean\"), inplace=True)\n",
    "alkohol[\"Stopnje alkoholiziranosti 0,80 in več\"] = alkohol[\"Stopnje alkoholiziranosti 0,80 in več\"].astype(int)"
   ]
  },
  {
   "cell_type": "markdown",
   "metadata": {},
   "source": [
    "Izračun števila prometnih nesreč po dnevih v tednu, razdeljenih po vrsti nesreče in izris grafa:"
   ]
  },
  {
   "cell_type": "code",
   "execution_count": 5,
   "metadata": {},
   "outputs": [
    {
     "data": {
      "text/plain": [
       "'Petek'"
      ]
     },
     "execution_count": 5,
     "metadata": {},
     "output_type": "execute_result"
    }
   ],
   "source": [
    "# \n",
    "dnevi_sum = dnevi.groupby(['Dan v tednu'], as_index = False).agg({'Prometne nesreče s smrtnim izidom': [np.sum],\n",
    "                                                                  'Prometne nesreče s telesno poškodbo': [np.sum],\n",
    "                                                                  'Prometne nesreče z materialno škodo': [np.sum],\n",
    "                                                                  'Prometne nesreče - SKUPAJ': [np.sum]\n",
    "                                                                 }) \n",
    "\n",
    "dnevi_sum.columns = [\"dan_v_tednu\", \"st_smrt\", \"st_telesna_poskodba\", \"st_materialna_skoda\", \"skupaj\"]    \n",
    "dnevi_max=dnevi_sum.iloc[dnevi_sum[\"skupaj\"].idxmax()][\"dan_v_tednu\"]\n",
    "dnevi_sum = dnevi_sum.sort_values(by=\"skupaj\", ascending=[False])\n",
    "dnevi_max\n",
    "\n",
    "#dnevi_sum;"
   ]
  },
  {
   "cell_type": "code",
   "execution_count": 6,
   "metadata": {},
   "outputs": [
    {
     "data": {
      "application/vnd.plotly.v1+json": {
       "data": [
        {
         "marker": {
          "color": "#000000"
         },
         "name": "Število nesreč s smrtnim izidom",
         "orientation": "h",
         "type": "bar",
         "x": [
          316,
          289,
          256,
          244,
          379,
          299,
          362
         ],
         "y": [
          "Petek",
          "Četrtek",
          "Sreda",
          "Torek",
          "Sobota",
          "Ponedeljek",
          "Nedelja"
         ]
        },
        {
         "marker": {
          "color": "#FF2222"
         },
         "name": "Število nesreč telesnih poškodb",
         "orientation": "h",
         "type": "bar",
         "x": [
          17686,
          15416,
          15276,
          15513,
          15374,
          15146,
          12762
         ],
         "y": [
          "Petek",
          "Četrtek",
          "Sreda",
          "Torek",
          "Sobota",
          "Ponedeljek",
          "Nedelja"
         ]
        },
        {
         "marker": {
          "color": "#AAAAAA"
         },
         "name": "Število nesreč z materialno škodo",
         "orientation": "h",
         "type": "bar",
         "x": [
          36423,
          31877,
          31562,
          31237,
          30683,
          30115,
          22853
         ],
         "y": [
          "Petek",
          "Četrtek",
          "Sreda",
          "Torek",
          "Sobota",
          "Ponedeljek",
          "Nedelja"
         ]
        }
       ],
       "layout": {
        "barmode": "stack"
       }
      },
      "text/html": [
       "<div id=\"fafc4bf6-2106-4c91-91ab-38b04ebef9ac\" style=\"height: 525px; width: 100%;\" class=\"plotly-graph-div\"></div><script type=\"text/javascript\">require([\"plotly\"], function(Plotly) { window.PLOTLYENV=window.PLOTLYENV || {};window.PLOTLYENV.BASE_URL=\"https://plot.ly\";Plotly.newPlot(\"fafc4bf6-2106-4c91-91ab-38b04ebef9ac\", [{\"type\": \"bar\", \"y\": [\"Petek\", \"\\u010cetrtek\", \"Sreda\", \"Torek\", \"Sobota\", \"Ponedeljek\", \"Nedelja\"], \"x\": [316, 289, 256, 244, 379, 299, 362], \"name\": \"\\u0160tevilo nesre\\u010d s smrtnim izidom\", \"orientation\": \"h\", \"marker\": {\"color\": \"#000000\"}}, {\"type\": \"bar\", \"y\": [\"Petek\", \"\\u010cetrtek\", \"Sreda\", \"Torek\", \"Sobota\", \"Ponedeljek\", \"Nedelja\"], \"x\": [17686, 15416, 15276, 15513, 15374, 15146, 12762], \"name\": \"\\u0160tevilo nesre\\u010d telesnih po\\u0161kodb\", \"orientation\": \"h\", \"marker\": {\"color\": \"#FF2222\"}}, {\"type\": \"bar\", \"y\": [\"Petek\", \"\\u010cetrtek\", \"Sreda\", \"Torek\", \"Sobota\", \"Ponedeljek\", \"Nedelja\"], \"x\": [36423, 31877, 31562, 31237, 30683, 30115, 22853], \"name\": \"\\u0160tevilo nesre\\u010d z materialno \\u0161kodo\", \"orientation\": \"h\", \"marker\": {\"color\": \"#AAAAAA\"}}], {\"barmode\": \"stack\"}, {\"showLink\": true, \"linkText\": \"Export to plot.ly\"})});</script>"
      ],
      "text/vnd.plotly.v1+html": [
       "<div id=\"fafc4bf6-2106-4c91-91ab-38b04ebef9ac\" style=\"height: 525px; width: 100%;\" class=\"plotly-graph-div\"></div><script type=\"text/javascript\">require([\"plotly\"], function(Plotly) { window.PLOTLYENV=window.PLOTLYENV || {};window.PLOTLYENV.BASE_URL=\"https://plot.ly\";Plotly.newPlot(\"fafc4bf6-2106-4c91-91ab-38b04ebef9ac\", [{\"type\": \"bar\", \"y\": [\"Petek\", \"\\u010cetrtek\", \"Sreda\", \"Torek\", \"Sobota\", \"Ponedeljek\", \"Nedelja\"], \"x\": [316, 289, 256, 244, 379, 299, 362], \"name\": \"\\u0160tevilo nesre\\u010d s smrtnim izidom\", \"orientation\": \"h\", \"marker\": {\"color\": \"#000000\"}}, {\"type\": \"bar\", \"y\": [\"Petek\", \"\\u010cetrtek\", \"Sreda\", \"Torek\", \"Sobota\", \"Ponedeljek\", \"Nedelja\"], \"x\": [17686, 15416, 15276, 15513, 15374, 15146, 12762], \"name\": \"\\u0160tevilo nesre\\u010d telesnih po\\u0161kodb\", \"orientation\": \"h\", \"marker\": {\"color\": \"#FF2222\"}}, {\"type\": \"bar\", \"y\": [\"Petek\", \"\\u010cetrtek\", \"Sreda\", \"Torek\", \"Sobota\", \"Ponedeljek\", \"Nedelja\"], \"x\": [36423, 31877, 31562, 31237, 30683, 30115, 22853], \"name\": \"\\u0160tevilo nesre\\u010d z materialno \\u0161kodo\", \"orientation\": \"h\", \"marker\": {\"color\": \"#AAAAAA\"}}], {\"barmode\": \"stack\"}, {\"showLink\": true, \"linkText\": \"Export to plot.ly\"})});</script>"
      ]
     },
     "metadata": {},
     "output_type": "display_data"
    }
   ],
   "source": [
    "# draws plot\n",
    "trace1 = go.Bar(\n",
    "    y=dnevi_sum[\"dan_v_tednu\"],\n",
    "    x=dnevi_sum[\"st_smrt\"],\n",
    "    name='Število nesreč s smrtnim izidom',\n",
    "    orientation = \"h\",\n",
    "    marker=dict(\n",
    "        color='#000000',\n",
    "    )\n",
    "    \n",
    ")\n",
    "trace2 = go.Bar(\n",
    "    y=dnevi_sum[\"dan_v_tednu\"],\n",
    "    x=dnevi_sum[\"st_telesna_poskodba\"],\n",
    "    name='Število nesreč telesnih poškodb',\n",
    "    orientation = \"h\",\n",
    "    marker=dict(\n",
    "        color='#FF2222',\n",
    "    )\n",
    ")\n",
    "trace3 = go.Bar(\n",
    "    y=dnevi_sum[\"dan_v_tednu\"],\n",
    "    x=dnevi_sum[\"st_materialna_skoda\"],\n",
    "    name='Število nesreč z materialno škodo',\n",
    "    orientation = \"h\",\n",
    "    marker=dict(\n",
    "        color='#AAAAAA',\n",
    "    )\n",
    ")\n",
    "\n",
    "data = [trace1, trace2, trace3]\n",
    "layout = go.Layout(\n",
    "    barmode='stack'\n",
    ")\n",
    "\n",
    "fig = go.Figure(data=data, layout=layout)\n",
    "iplot(fig, filename='stacked-bar')"
   ]
  },
  {
   "cell_type": "markdown",
   "metadata": {},
   "source": [
    "Izračun števila prometnih nesreč skozi leta in risanje grafa:"
   ]
  },
  {
   "cell_type": "code",
   "execution_count": 7,
   "metadata": {},
   "outputs": [],
   "source": [
    "# \n",
    "smrti_sum = dnevi.groupby(['leto'], as_index = False).agg({'Prometne nesreče s smrtnim izidom': [np.sum],\n",
    "                                                                  'Prometne nesreče s telesno poškodbo': [np.sum],\n",
    "                                                                  'Prometne nesreče z materialno škodo': [np.sum],\n",
    "                                                                  'Prometne nesreče - SKUPAJ': [np.sum]\n",
    "                                                                 }) \n",
    "\n",
    "smrti_sum.columns = [\"leto\", \"st_smrt\", \"st_telesna_poskodba\", \"st_materialna_skoda\", \"skupaj\"]    \n",
    "smrti_sum = smrti_sum.sort_values(by=\"leto\", ascending=[False])\n",
    "smrti_sum;"
   ]
  },
  {
   "cell_type": "code",
   "execution_count": 8,
   "metadata": {},
   "outputs": [
    {
     "data": {
      "application/vnd.plotly.v1+json": {
       "data": [
        {
         "marker": {
          "color": "#000000"
         },
         "type": "scatter",
         "x": [
          2014,
          2013,
          2012,
          2011,
          2010,
          2009,
          2008,
          2007,
          2006,
          2005,
          2004,
          2003
         ],
         "y": [
          97,
          116,
          122,
          129,
          127,
          154,
          200,
          263,
          233,
          230,
          254,
          220
         ]
        }
       ],
       "layout": {}
      },
      "text/html": [
       "<div id=\"08c8e9b4-97ce-43aa-87e8-2d7e4c566472\" style=\"height: 525px; width: 100%;\" class=\"plotly-graph-div\"></div><script type=\"text/javascript\">require([\"plotly\"], function(Plotly) { window.PLOTLYENV=window.PLOTLYENV || {};window.PLOTLYENV.BASE_URL=\"https://plot.ly\";Plotly.newPlot(\"08c8e9b4-97ce-43aa-87e8-2d7e4c566472\", [{\"type\": \"scatter\", \"x\": [2014, 2013, 2012, 2011, 2010, 2009, 2008, 2007, 2006, 2005, 2004, 2003], \"y\": [97, 116, 122, 129, 127, 154, 200, 263, 233, 230, 254, 220], \"marker\": {\"color\": \"#000000\"}}], {}, {\"showLink\": true, \"linkText\": \"Export to plot.ly\"})});</script>"
      ],
      "text/vnd.plotly.v1+html": [
       "<div id=\"08c8e9b4-97ce-43aa-87e8-2d7e4c566472\" style=\"height: 525px; width: 100%;\" class=\"plotly-graph-div\"></div><script type=\"text/javascript\">require([\"plotly\"], function(Plotly) { window.PLOTLYENV=window.PLOTLYENV || {};window.PLOTLYENV.BASE_URL=\"https://plot.ly\";Plotly.newPlot(\"08c8e9b4-97ce-43aa-87e8-2d7e4c566472\", [{\"type\": \"scatter\", \"x\": [2014, 2013, 2012, 2011, 2010, 2009, 2008, 2007, 2006, 2005, 2004, 2003], \"y\": [97, 116, 122, 129, 127, 154, 200, 263, 233, 230, 254, 220], \"marker\": {\"color\": \"#000000\"}}], {}, {\"showLink\": true, \"linkText\": \"Export to plot.ly\"})});</script>"
      ]
     },
     "metadata": {},
     "output_type": "display_data"
    }
   ],
   "source": [
    "# Create a trace\n",
    "trace = go.Scatter(\n",
    "    x = smrti_sum[\"leto\"],\n",
    "    y = smrti_sum[\"st_smrt\"],\n",
    "    marker=dict(\n",
    "        color='#000000',\n",
    "    )\n",
    ")\n",
    "\n",
    "data = [trace]\n",
    "iplot(data, filename='basic-line')"
   ]
  },
  {
   "cell_type": "markdown",
   "metadata": {},
   "source": [
    "Osnutek po regijah razdeljenega zemljevida, ki ga bomo uporabili v kasnejši fazi:"
   ]
  },
  {
   "cell_type": "code",
   "execution_count": 9,
   "metadata": {},
   "outputs": [],
   "source": [
    "mapbox_access_token = \"pk.eyJ1IjoiaW1pbG9zayIsImEiOiJjamZ2M3c2MmQwcHk5Mndtd3lyMTI2bHJqIn0.FMLgB-WENz3ZSe1gRWRJHg\"\n",
    "\n",
    "data = go.Data([\n",
    "    go.Scattermapbox(\n",
    "        lat=['46.1512'],\n",
    "        lon=['14.9955'],\n",
    "        mode='markers',\n",
    "    )\n",
    "])\n",
    "layout = go.Layout(\n",
    "    height=600,\n",
    "    autosize=True,\n",
    "    hovermode='closest',\n",
    "    mapbox=dict(\n",
    "        layers=[\n",
    "            dict(\n",
    "                sourcetype = 'geojson',\n",
    "                source = 'https://gist.githubusercontent.com/imilosk/47013ab15f8a329b0497853f95d081d5/raw/48d364de4c88b0fc6fbd9e42012b47f87def285d/slovenia.json',\n",
    "                type = 'fill',\n",
    "                color = 'rgba(163,22,19,0.8)'\n",
    "            )\n",
    "        ],\n",
    "        accesstoken=mapbox_access_token,\n",
    "        bearing=0,\n",
    "        center=dict(\n",
    "            lat=46.1512,\n",
    "            lon=14.9955\n",
    "        ),\n",
    "        pitch=0,\n",
    "        zoom=7.0,\n",
    "        style='light'\n",
    "    ),\n",
    ")\n",
    "\n",
    "fig = dict(data=data, layout=layout)\n",
    "#iplot(fig, filename='county-level-choropleths-python');"
   ]
  },
  {
   "cell_type": "markdown",
   "metadata": {},
   "source": [
    "Izračun in izris podatkov o alkoholiziranosti različnih udeležencev prometa:"
   ]
  },
  {
   "cell_type": "code",
   "execution_count": 10,
   "metadata": {},
   "outputs": [],
   "source": [
    "# \n",
    "alko_sum = alkohol.groupby(['Kategorija'], as_index = False).agg({'Stopnje alkoholiziranosti 0,50 in več': [np.sum],\n",
    "                                                                  'Stopnje alkoholiziranosti 0,80 in več': [np.sum],\n",
    "                                                                  'Stopnje alkoholiziranosti 1,50 in več': [np.sum],\n",
    "                                                                  'Število alkoholiziranih udeležencev - SKUPAJ': [np.sum]\n",
    "                                                                 }) \n",
    "\n",
    "alko_sum.columns = [\"kategorija\",\"alko_05\", \"alko_08\", \"alko_15\", \"skupaj\"]\n",
    "\n",
    "alko_sum = alko_sum.sort_values(by=\"skupaj\", ascending=[False])\n",
    "alko_sum = alko_sum.drop([0, 3, 9])\n",
    "#alko_max = alko_sum[\"kategorija\"][alko_sum[\"skupaj\"].idxmax()][\"kategorija\"]\n",
    "alko_max=alko_sum[\"kategorija\"][8]"
   ]
  },
  {
   "cell_type": "code",
   "execution_count": 11,
   "metadata": {},
   "outputs": [
    {
     "data": {
      "application/vnd.plotly.v1+json": {
       "data": [
        {
         "marker": {
          "color": "#bdbdbd"
         },
         "name": "0,50 g/kg in več",
         "type": "bar",
         "x": [
          "Vozniki osebnih avtomobilov",
          "Kolesarji",
          "Vozniki mopedov in koles z motorjem",
          "Vozniki motornih koles",
          "Pešci",
          "Drugi",
          "Vozniki drugih motornih vozil"
         ],
         "y": [
          344,
          75,
          50,
          38,
          29,
          35,
          19
         ]
        },
        {
         "marker": {
          "color": "#9ecae1"
         },
         "name": "0,80 g/kg in več",
         "type": "bar",
         "x": [
          "Vozniki osebnih avtomobilov",
          "Kolesarji",
          "Vozniki mopedov in koles z motorjem",
          "Vozniki motornih koles",
          "Pešci",
          "Drugi",
          "Vozniki drugih motornih vozil"
         ],
         "y": [
          1302,
          280,
          157,
          183,
          92,
          106,
          33
         ]
        },
        {
         "marker": {
          "color": "#2b8cbe"
         },
         "name": "1,50 g/kg in več",
         "type": "bar",
         "x": [
          "Vozniki osebnih avtomobilov",
          "Kolesarji",
          "Vozniki mopedov in koles z motorjem",
          "Vozniki motornih koles",
          "Pešci",
          "Drugi",
          "Vozniki drugih motornih vozil"
         ],
         "y": [
          1641,
          601,
          296,
          158,
          159,
          107,
          73
         ]
        }
       ],
       "layout": {
        "barmode": "group"
       }
      },
      "text/html": [
       "<div id=\"eeb7ed7c-566e-4c9b-a2e8-73ec2a7438ab\" style=\"height: 525px; width: 100%;\" class=\"plotly-graph-div\"></div><script type=\"text/javascript\">require([\"plotly\"], function(Plotly) { window.PLOTLYENV=window.PLOTLYENV || {};window.PLOTLYENV.BASE_URL=\"https://plot.ly\";Plotly.newPlot(\"eeb7ed7c-566e-4c9b-a2e8-73ec2a7438ab\", [{\"type\": \"bar\", \"x\": [\"Vozniki osebnih avtomobilov\", \"Kolesarji\", \"Vozniki mopedov in koles z motorjem\", \"Vozniki motornih koles\", \"Pe\\u0161ci\", \"Drugi\", \"Vozniki drugih motornih vozil\"], \"y\": [344, 75, 50, 38, 29, 35, 19], \"name\": \"0,50 g/kg in ve\\u010d\", \"marker\": {\"color\": \"#bdbdbd\"}}, {\"type\": \"bar\", \"x\": [\"Vozniki osebnih avtomobilov\", \"Kolesarji\", \"Vozniki mopedov in koles z motorjem\", \"Vozniki motornih koles\", \"Pe\\u0161ci\", \"Drugi\", \"Vozniki drugih motornih vozil\"], \"y\": [1302, 280, 157, 183, 92, 106, 33], \"name\": \"0,80 g/kg in ve\\u010d\", \"marker\": {\"color\": \"#9ecae1\"}}, {\"type\": \"bar\", \"x\": [\"Vozniki osebnih avtomobilov\", \"Kolesarji\", \"Vozniki mopedov in koles z motorjem\", \"Vozniki motornih koles\", \"Pe\\u0161ci\", \"Drugi\", \"Vozniki drugih motornih vozil\"], \"y\": [1641, 601, 296, 158, 159, 107, 73], \"name\": \"1,50 g/kg in ve\\u010d\", \"marker\": {\"color\": \"#2b8cbe\"}}], {\"barmode\": \"group\"}, {\"showLink\": true, \"linkText\": \"Export to plot.ly\"})});</script>"
      ],
      "text/vnd.plotly.v1+html": [
       "<div id=\"eeb7ed7c-566e-4c9b-a2e8-73ec2a7438ab\" style=\"height: 525px; width: 100%;\" class=\"plotly-graph-div\"></div><script type=\"text/javascript\">require([\"plotly\"], function(Plotly) { window.PLOTLYENV=window.PLOTLYENV || {};window.PLOTLYENV.BASE_URL=\"https://plot.ly\";Plotly.newPlot(\"eeb7ed7c-566e-4c9b-a2e8-73ec2a7438ab\", [{\"type\": \"bar\", \"x\": [\"Vozniki osebnih avtomobilov\", \"Kolesarji\", \"Vozniki mopedov in koles z motorjem\", \"Vozniki motornih koles\", \"Pe\\u0161ci\", \"Drugi\", \"Vozniki drugih motornih vozil\"], \"y\": [344, 75, 50, 38, 29, 35, 19], \"name\": \"0,50 g/kg in ve\\u010d\", \"marker\": {\"color\": \"#bdbdbd\"}}, {\"type\": \"bar\", \"x\": [\"Vozniki osebnih avtomobilov\", \"Kolesarji\", \"Vozniki mopedov in koles z motorjem\", \"Vozniki motornih koles\", \"Pe\\u0161ci\", \"Drugi\", \"Vozniki drugih motornih vozil\"], \"y\": [1302, 280, 157, 183, 92, 106, 33], \"name\": \"0,80 g/kg in ve\\u010d\", \"marker\": {\"color\": \"#9ecae1\"}}, {\"type\": \"bar\", \"x\": [\"Vozniki osebnih avtomobilov\", \"Kolesarji\", \"Vozniki mopedov in koles z motorjem\", \"Vozniki motornih koles\", \"Pe\\u0161ci\", \"Drugi\", \"Vozniki drugih motornih vozil\"], \"y\": [1641, 601, 296, 158, 159, 107, 73], \"name\": \"1,50 g/kg in ve\\u010d\", \"marker\": {\"color\": \"#2b8cbe\"}}], {\"barmode\": \"group\"}, {\"showLink\": true, \"linkText\": \"Export to plot.ly\"})});</script>"
      ]
     },
     "metadata": {},
     "output_type": "display_data"
    }
   ],
   "source": [
    "trace1 = go.Bar(\n",
    "    x=alko_sum[\"kategorija\"],\n",
    "    y=alko_sum[\"alko_05\"],\n",
    "    name='0,50 g/kg in več',\n",
    "    marker=dict(\n",
    "        color='#bdbdbd',\n",
    "    )\n",
    ")\n",
    "trace2 = go.Bar(\n",
    "    x=alko_sum[\"kategorija\"],\n",
    "    y=alko_sum[\"alko_08\"],\n",
    "    name='0,80 g/kg in več',\n",
    "    marker=dict(\n",
    "        color='#9ecae1',\n",
    "    )\n",
    ")\n",
    "trace3 = go.Bar(\n",
    "    x=alko_sum[\"kategorija\"],\n",
    "    y=alko_sum[\"alko_15\"],\n",
    "    name='1,50 g/kg in več',\n",
    "    marker=dict(\n",
    "        color='#2b8cbe',\n",
    "    )\n",
    ")\n",
    "\n",
    "data = [trace1, trace2, trace3]\n",
    "layout = go.Layout(\n",
    "    barmode='group'\n",
    ")\n",
    "\n",
    "fig = go.Figure(data=data, layout=layout)\n",
    "iplot(fig, filename='grouped-bar')"
   ]
  },
  {
   "cell_type": "markdown",
   "metadata": {},
   "source": [
    "Izračun porazdelitve prometnih nesreč skozi dan:"
   ]
  },
  {
   "cell_type": "code",
   "execution_count": 12,
   "metadata": {},
   "outputs": [],
   "source": [
    "ura_avg = ura.groupby(['Ura v dnevu'], as_index = False).agg({'Prometne nesreče - SKUPAJ': [np.sum]}) \n",
    "\n",
    "ura_avg.columns = [\"Ura v dnevu\",\"sum\"]\n",
    "ura_max=ura_avg.iloc[ura_avg[\"sum\"].idxmax()][\"Ura v dnevu\"]\n",
    "\n",
    "\n",
    "ura_avg[\"sum\"]=ura_avg[\"sum\"]/(365*11+3)\n",
    "\n",
    "\n",
    "\n"
   ]
  },
  {
   "cell_type": "code",
   "execution_count": 13,
   "metadata": {},
   "outputs": [
    {
     "data": {
      "application/vnd.plotly.v1+json": {
       "data": [
        {
         "marker": {
          "color": "#2b8cbe"
         },
         "type": "bar",
         "x": [
          0,
          1,
          2,
          3,
          4,
          5,
          6,
          7,
          8,
          9,
          10,
          11,
          12,
          13,
          14,
          15,
          16,
          17,
          18,
          19,
          20,
          21,
          22,
          23
         ],
         "y": [
          1.182429069188651,
          0.9840716774514684,
          0.835490293678447,
          0.7901941264310602,
          0.8337481333997013,
          1.660776505724241,
          2.918865107018417,
          3.550024888003982,
          3.548780487804878,
          3.951219512195122,
          4.5014932802389245,
          4.773021403683424,
          4.590094574415132,
          4.989547038327526,
          5.822050771528123,
          6.014683922349428,
          5.393230462916874,
          5.009457441513191,
          4.814086610253858,
          4.104031856645097,
          3.402439024390244,
          2.9193628670980587,
          2.3698357391737184,
          1.6951219512195121
         ]
        }
       ],
       "layout": {}
      },
      "text/html": [
       "<div id=\"81f9108e-2a23-4d79-a2b7-df03f23dea30\" style=\"height: 525px; width: 100%;\" class=\"plotly-graph-div\"></div><script type=\"text/javascript\">require([\"plotly\"], function(Plotly) { window.PLOTLYENV=window.PLOTLYENV || {};window.PLOTLYENV.BASE_URL=\"https://plot.ly\";Plotly.newPlot(\"81f9108e-2a23-4d79-a2b7-df03f23dea30\", [{\"type\": \"bar\", \"x\": [0, 1, 2, 3, 4, 5, 6, 7, 8, 9, 10, 11, 12, 13, 14, 15, 16, 17, 18, 19, 20, 21, 22, 23], \"y\": [1.182429069188651, 0.9840716774514684, 0.835490293678447, 0.7901941264310602, 0.8337481333997013, 1.660776505724241, 2.918865107018417, 3.550024888003982, 3.548780487804878, 3.951219512195122, 4.5014932802389245, 4.773021403683424, 4.590094574415132, 4.989547038327526, 5.822050771528123, 6.014683922349428, 5.393230462916874, 5.009457441513191, 4.814086610253858, 4.104031856645097, 3.402439024390244, 2.9193628670980587, 2.3698357391737184, 1.6951219512195121], \"marker\": {\"color\": \"#2b8cbe\"}}], {}, {\"showLink\": true, \"linkText\": \"Export to plot.ly\"})});</script>"
      ],
      "text/vnd.plotly.v1+html": [
       "<div id=\"81f9108e-2a23-4d79-a2b7-df03f23dea30\" style=\"height: 525px; width: 100%;\" class=\"plotly-graph-div\"></div><script type=\"text/javascript\">require([\"plotly\"], function(Plotly) { window.PLOTLYENV=window.PLOTLYENV || {};window.PLOTLYENV.BASE_URL=\"https://plot.ly\";Plotly.newPlot(\"81f9108e-2a23-4d79-a2b7-df03f23dea30\", [{\"type\": \"bar\", \"x\": [0, 1, 2, 3, 4, 5, 6, 7, 8, 9, 10, 11, 12, 13, 14, 15, 16, 17, 18, 19, 20, 21, 22, 23], \"y\": [1.182429069188651, 0.9840716774514684, 0.835490293678447, 0.7901941264310602, 0.8337481333997013, 1.660776505724241, 2.918865107018417, 3.550024888003982, 3.548780487804878, 3.951219512195122, 4.5014932802389245, 4.773021403683424, 4.590094574415132, 4.989547038327526, 5.822050771528123, 6.014683922349428, 5.393230462916874, 5.009457441513191, 4.814086610253858, 4.104031856645097, 3.402439024390244, 2.9193628670980587, 2.3698357391737184, 1.6951219512195121], \"marker\": {\"color\": \"#2b8cbe\"}}], {}, {\"showLink\": true, \"linkText\": \"Export to plot.ly\"})});</script>"
      ]
     },
     "metadata": {},
     "output_type": "display_data"
    }
   ],
   "source": [
    "# Create a trace\n",
    "trace = go.Bar(\n",
    "    x = ura_avg[\"Ura v dnevu\"],\n",
    "    y = ura_avg[\"sum\"],\n",
    "    marker=dict(\n",
    "        color='#2b8cbe',\n",
    "    )\n",
    ")\n",
    "\n",
    "data = [trace]\n",
    "iplot(data, filename='basic-bar')"
   ]
  },
  {
   "cell_type": "code",
   "execution_count": 14,
   "metadata": {},
   "outputs": [
    {
     "data": {
      "text/plain": [
       "'V naselju'"
      ]
     },
     "execution_count": 14,
     "metadata": {},
     "output_type": "execute_result"
    }
   ],
   "source": [
    "# \n",
    "lok_sum = lokacije.groupby([\"Lokacija\"], as_index = False).agg({'Prometne nesreče - SKUPAJ': [np.sum]}) \n",
    "\n",
    "lok_sum.columns = [\"kje\",\"skupaj\"]\n",
    "\n",
    "lok_sum\n",
    "lok_max = lok_sum.iloc[lok_sum[\"skupaj\"].idxmax()+1][\"kje\"]\n",
    "lok_max"
   ]
  },
  {
   "cell_type": "code",
   "execution_count": 15,
   "metadata": {},
   "outputs": [
    {
     "data": {
      "text/plain": [
       "'Oktober'"
      ]
     },
     "execution_count": 15,
     "metadata": {},
     "output_type": "execute_result"
    }
   ],
   "source": [
    "mes_sum = meseci.groupby([\"Mesec v letu\"], as_index = False).agg({'Prometne nesreče - SKUPAJ': [np.sum]}) \n",
    "\n",
    "mes_sum.columns = [\"mesec\",\"sum\"]\n",
    "\n",
    "mes_sum\n",
    "mes_max = mes_sum.iloc[mes_sum[\"sum\"].idxmax()][\"mesec\"]\n",
    "mes_max"
   ]
  },
  {
   "cell_type": "code",
   "execution_count": 16,
   "metadata": {},
   "outputs": [
    {
     "data": {
      "text/plain": [
       "'Osrednjeslovenska'"
      ]
     },
     "execution_count": 16,
     "metadata": {},
     "output_type": "execute_result"
    }
   ],
   "source": [
    "reg_sum = regije.groupby([\"Regija\"], as_index = False).agg({'Prometne nesreče - SKUPAJ': [np.sum]}) \n",
    "\n",
    "reg_sum.columns = [\"regija\",\"sum\"]\n",
    "\n",
    "reg_sum\n",
    "reg_max = reg_sum.iloc[reg_sum[\"sum\"].idxmax()][\"regija\"]\n",
    "reg_max"
   ]
  },
  {
   "cell_type": "code",
   "execution_count": 22,
   "metadata": {},
   "outputs": [
    {
     "data": {
      "text/plain": [
       "'Vrste udeležencev - SKUPAJ'"
      ]
     },
     "execution_count": 22,
     "metadata": {},
     "output_type": "execute_result"
    }
   ],
   "source": [
    "\n",
    "udl_sum = udelezenci.groupby([\"Udeleženci\"], as_index = False).agg({'Število udeležencev - SKUPAJ': [np.sum]}) \n",
    "\n",
    "udl_sum.columns = [\"udel\",\"sum\"]\n",
    "\n",
    "udl_sum\n",
    "udl_max = udl_sum.iloc[udl_sum[\"sum\"].idxmax()][\"udel\"]\n",
    "udl_max"
   ]
  },
  {
   "cell_type": "code",
   "execution_count": 19,
   "metadata": {},
   "outputs": [
    {
     "name": "stdout",
     "output_type": "stream",
     "text": [
      "Vozniki osebnih avtomobilov , Petek , V naselju , Oktober , Osrednjeslovenska ,  15  , Vrste udeležencev - SKUPAJ\n"
     ]
    }
   ],
   "source": [
    "#alkohol, dan, kje, mesec, regija, ura, kdo, cesta\n",
    "print(alko_max+\" , \"+dnevi_max+\" , \"+lok_max+\" , \"+ mes_max+ \" , \"+reg_max+\" , \",ura_max,\" , \"+udl_max)"
   ]
  }
 ],
 "metadata": {
  "kernelspec": {
   "display_name": "Python 3",
   "language": "python",
   "name": "python3"
  },
  "language_info": {
   "codemirror_mode": {
    "name": "ipython",
    "version": 3
   },
   "file_extension": ".py",
   "mimetype": "text/x-python",
   "name": "python",
   "nbconvert_exporter": "python",
   "pygments_lexer": "ipython3",
   "version": "3.6.4"
  }
 },
 "nbformat": 4,
 "nbformat_minor": 2
}

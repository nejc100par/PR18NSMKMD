{
 "cells": [
  {
   "cell_type": "markdown",
   "metadata": {},
   "source": [
    "# Analiza prometnih nesreč v Sloveniji"
   ]
  },
  {
   "cell_type": "code",
   "execution_count": 1,
   "metadata": {},
   "outputs": [],
   "source": [
    "import numpy as np\n",
    "import pandas as pd"
   ]
  },
  {
   "cell_type": "code",
   "execution_count": 2,
   "metadata": {},
   "outputs": [
    {
     "data": {
      "text/html": [
       "<script>requirejs.config({paths: { 'plotly': ['https://cdn.plot.ly/plotly-latest.min']},});if(!window.Plotly) {{require(['plotly'],function(plotly) {window.Plotly=plotly;});}}</script>"
      ],
      "text/vnd.plotly.v1+html": [
       "<script>requirejs.config({paths: { 'plotly': ['https://cdn.plot.ly/plotly-latest.min']},});if(!window.Plotly) {{require(['plotly'],function(plotly) {window.Plotly=plotly;});}}</script>"
      ]
     },
     "metadata": {},
     "output_type": "display_data"
    }
   ],
   "source": [
    "import plotly.graph_objs as go\n",
    "from plotly.offline import download_plotlyjs, init_notebook_mode, plot, iplot\n",
    "init_notebook_mode(connected=True)"
   ]
  },
  {
   "cell_type": "code",
   "execution_count": 3,
   "metadata": {},
   "outputs": [],
   "source": [
    "#from mapboxgl.viz import *\n",
    "#from mapboxgl.utils import *"
   ]
  },
  {
   "cell_type": "code",
   "execution_count": 4,
   "metadata": {},
   "outputs": [],
   "source": [
    "# Import data\n",
    "dnevi=pd.read_csv('data/po_dnevih.csv', sep=\";\")\n",
    "udelezenci=pd.read_csv('data/po_vrstah_udelezencev.csv', sep=\";\")\n",
    "ceste=pd.read_csv('data/po_vrsti_ceste.csv', sep=\";\")\n",
    "meseci=pd.read_csv('data/po_mesecih.csv', sep=\";\")\n",
    "regije=pd.read_csv('data/po_regijah.csv', sep=\";\")\n",
    "lokacije=pd.read_csv('data/po_lokaciji.csv', sep=\";\")\n",
    "ura=pd.read_csv('data/po_urah.csv', sep=\";\")\n",
    "alkohol=pd.read_csv('data/alkohol.csv', sep=\";\")"
   ]
  },
  {
   "cell_type": "markdown",
   "metadata": {},
   "source": [
    "#### Zamenjava manjkajočih podatkov s povprečjem:"
   ]
  },
  {
   "cell_type": "code",
   "execution_count": 5,
   "metadata": {},
   "outputs": [],
   "source": [
    "alkohol[\"Stopnje alkoholiziranosti 0,80 in več\"].fillna(alkohol.groupby(\"Kategorija\")[\"Stopnje alkoholiziranosti 0,80 in več\"].transform(\"mean\"), inplace=True)\n",
    "alkohol[\"Stopnje alkoholiziranosti 0,80 in več\"] = alkohol[\"Stopnje alkoholiziranosti 0,80 in več\"].astype(int)"
   ]
  },
  {
   "cell_type": "markdown",
   "metadata": {},
   "source": [
    "#### Izračun števila prometnih nesreč po dnevih v tednu, razdeljenih po vrsti nesreče in izris grafa:"
   ]
  },
  {
   "cell_type": "code",
   "execution_count": 6,
   "metadata": {},
   "outputs": [
    {
     "data": {
      "text/html": [
       "<div>\n",
       "<style scoped>\n",
       "    .dataframe tbody tr th:only-of-type {\n",
       "        vertical-align: middle;\n",
       "    }\n",
       "\n",
       "    .dataframe tbody tr th {\n",
       "        vertical-align: top;\n",
       "    }\n",
       "\n",
       "    .dataframe thead th {\n",
       "        text-align: right;\n",
       "    }\n",
       "</style>\n",
       "<table border=\"1\" class=\"dataframe\">\n",
       "  <thead>\n",
       "    <tr style=\"text-align: right;\">\n",
       "      <th></th>\n",
       "      <th>dan_v_tednu</th>\n",
       "      <th>st_smrt</th>\n",
       "      <th>st_telesna_poskodba</th>\n",
       "      <th>st_materialna_skoda</th>\n",
       "      <th>skupaj</th>\n",
       "    </tr>\n",
       "  </thead>\n",
       "  <tbody>\n",
       "    <tr>\n",
       "      <th>1</th>\n",
       "      <td>Petek</td>\n",
       "      <td>316</td>\n",
       "      <td>17686</td>\n",
       "      <td>36423</td>\n",
       "      <td>54425</td>\n",
       "    </tr>\n",
       "    <tr>\n",
       "      <th>6</th>\n",
       "      <td>Četrtek</td>\n",
       "      <td>289</td>\n",
       "      <td>15416</td>\n",
       "      <td>31877</td>\n",
       "      <td>47582</td>\n",
       "    </tr>\n",
       "    <tr>\n",
       "      <th>4</th>\n",
       "      <td>Sreda</td>\n",
       "      <td>256</td>\n",
       "      <td>15276</td>\n",
       "      <td>31562</td>\n",
       "      <td>47094</td>\n",
       "    </tr>\n",
       "    <tr>\n",
       "      <th>5</th>\n",
       "      <td>Torek</td>\n",
       "      <td>244</td>\n",
       "      <td>15513</td>\n",
       "      <td>31237</td>\n",
       "      <td>46994</td>\n",
       "    </tr>\n",
       "    <tr>\n",
       "      <th>3</th>\n",
       "      <td>Sobota</td>\n",
       "      <td>379</td>\n",
       "      <td>15374</td>\n",
       "      <td>30683</td>\n",
       "      <td>46436</td>\n",
       "    </tr>\n",
       "    <tr>\n",
       "      <th>2</th>\n",
       "      <td>Ponedeljek</td>\n",
       "      <td>299</td>\n",
       "      <td>15146</td>\n",
       "      <td>30115</td>\n",
       "      <td>45560</td>\n",
       "    </tr>\n",
       "    <tr>\n",
       "      <th>0</th>\n",
       "      <td>Nedelja</td>\n",
       "      <td>362</td>\n",
       "      <td>12762</td>\n",
       "      <td>22853</td>\n",
       "      <td>35977</td>\n",
       "    </tr>\n",
       "  </tbody>\n",
       "</table>\n",
       "</div>"
      ],
      "text/plain": [
       "  dan_v_tednu  st_smrt  st_telesna_poskodba  st_materialna_skoda  skupaj\n",
       "1       Petek      316                17686                36423   54425\n",
       "6     Četrtek      289                15416                31877   47582\n",
       "4       Sreda      256                15276                31562   47094\n",
       "5       Torek      244                15513                31237   46994\n",
       "3      Sobota      379                15374                30683   46436\n",
       "2  Ponedeljek      299                15146                30115   45560\n",
       "0     Nedelja      362                12762                22853   35977"
      ]
     },
     "execution_count": 6,
     "metadata": {},
     "output_type": "execute_result"
    }
   ],
   "source": [
    "# \n",
    "dnevi_sum = dnevi.groupby(['Dan v tednu'], as_index = False).agg({'Prometne nesreče s smrtnim izidom': [np.sum],\n",
    "                                                                  'Prometne nesreče s telesno poškodbo': [np.sum],\n",
    "                                                                  'Prometne nesreče z materialno škodo': [np.sum],\n",
    "                                                                  'Prometne nesreče - SKUPAJ': [np.sum]\n",
    "                                                                 }) \n",
    "\n",
    "dnevi_sum.columns = [\"dan_v_tednu\", \"st_smrt\", \"st_telesna_poskodba\", \"st_materialna_skoda\", \"skupaj\"] \n",
    "dnevi_max=dnevi_sum.iloc[dnevi_sum[\"skupaj\"].idxmax()][\"dan_v_tednu\"]\n",
    "dnevi_sum = dnevi_sum.sort_values(by=\"skupaj\", ascending=[False])\n",
    "dnevi_sum"
   ]
  },
  {
   "cell_type": "code",
   "execution_count": 7,
   "metadata": {},
   "outputs": [
    {
     "data": {
      "text/plain": [
       "'Petek'"
      ]
     },
     "execution_count": 7,
     "metadata": {},
     "output_type": "execute_result"
    }
   ],
   "source": [
    "dnevi_max"
   ]
  },
  {
   "cell_type": "code",
   "execution_count": 8,
   "metadata": {},
   "outputs": [
    {
     "data": {
      "application/vnd.plotly.v1+json": {
       "data": [
        {
         "marker": {
          "color": "#000000"
         },
         "name": "Število nesreč s smrtnim izidom",
         "orientation": "h",
         "type": "bar",
         "x": [
          316,
          289,
          256,
          244,
          379,
          299,
          362
         ],
         "y": [
          "Petek",
          "Četrtek",
          "Sreda",
          "Torek",
          "Sobota",
          "Ponedeljek",
          "Nedelja"
         ]
        },
        {
         "marker": {
          "color": "#FF2222"
         },
         "name": "Število nesreč telesnih poškodb",
         "orientation": "h",
         "type": "bar",
         "x": [
          17686,
          15416,
          15276,
          15513,
          15374,
          15146,
          12762
         ],
         "y": [
          "Petek",
          "Četrtek",
          "Sreda",
          "Torek",
          "Sobota",
          "Ponedeljek",
          "Nedelja"
         ]
        },
        {
         "marker": {
          "color": "#AAAAAA"
         },
         "name": "Število nesreč z materialno škodo",
         "orientation": "h",
         "type": "bar",
         "x": [
          36423,
          31877,
          31562,
          31237,
          30683,
          30115,
          22853
         ],
         "y": [
          "Petek",
          "Četrtek",
          "Sreda",
          "Torek",
          "Sobota",
          "Ponedeljek",
          "Nedelja"
         ]
        }
       ],
       "layout": {
        "barmode": "stack",
        "title": "Število prometnih nesreč po dnevih v tednu",
        "xaxis": {
         "title": "Število prometnih nesreč"
        },
        "yaxis": {
         "title": "Dan v tednu"
        }
       }
      },
      "text/html": [
       "<div id=\"c2e6b502-53e7-4342-9993-b1f546820385\" style=\"height: 525px; width: 100%;\" class=\"plotly-graph-div\"></div><script type=\"text/javascript\">require([\"plotly\"], function(Plotly) { window.PLOTLYENV=window.PLOTLYENV || {};window.PLOTLYENV.BASE_URL=\"https://plot.ly\";Plotly.newPlot(\"c2e6b502-53e7-4342-9993-b1f546820385\", [{\"type\": \"bar\", \"y\": [\"Petek\", \"\\u010cetrtek\", \"Sreda\", \"Torek\", \"Sobota\", \"Ponedeljek\", \"Nedelja\"], \"x\": [316, 289, 256, 244, 379, 299, 362], \"name\": \"\\u0160tevilo nesre\\u010d s smrtnim izidom\", \"orientation\": \"h\", \"marker\": {\"color\": \"#000000\"}}, {\"type\": \"bar\", \"y\": [\"Petek\", \"\\u010cetrtek\", \"Sreda\", \"Torek\", \"Sobota\", \"Ponedeljek\", \"Nedelja\"], \"x\": [17686, 15416, 15276, 15513, 15374, 15146, 12762], \"name\": \"\\u0160tevilo nesre\\u010d telesnih po\\u0161kodb\", \"orientation\": \"h\", \"marker\": {\"color\": \"#FF2222\"}}, {\"type\": \"bar\", \"y\": [\"Petek\", \"\\u010cetrtek\", \"Sreda\", \"Torek\", \"Sobota\", \"Ponedeljek\", \"Nedelja\"], \"x\": [36423, 31877, 31562, 31237, 30683, 30115, 22853], \"name\": \"\\u0160tevilo nesre\\u010d z materialno \\u0161kodo\", \"orientation\": \"h\", \"marker\": {\"color\": \"#AAAAAA\"}}], {\"barmode\": \"stack\", \"title\": \"\\u0160tevilo prometnih nesre\\u010d po dnevih v tednu\", \"xaxis\": {\"title\": \"\\u0160tevilo prometnih nesre\\u010d\"}, \"yaxis\": {\"title\": \"Dan v tednu\"}}, {\"showLink\": true, \"linkText\": \"Export to plot.ly\"})});</script>"
      ],
      "text/vnd.plotly.v1+html": [
       "<div id=\"c2e6b502-53e7-4342-9993-b1f546820385\" style=\"height: 525px; width: 100%;\" class=\"plotly-graph-div\"></div><script type=\"text/javascript\">require([\"plotly\"], function(Plotly) { window.PLOTLYENV=window.PLOTLYENV || {};window.PLOTLYENV.BASE_URL=\"https://plot.ly\";Plotly.newPlot(\"c2e6b502-53e7-4342-9993-b1f546820385\", [{\"type\": \"bar\", \"y\": [\"Petek\", \"\\u010cetrtek\", \"Sreda\", \"Torek\", \"Sobota\", \"Ponedeljek\", \"Nedelja\"], \"x\": [316, 289, 256, 244, 379, 299, 362], \"name\": \"\\u0160tevilo nesre\\u010d s smrtnim izidom\", \"orientation\": \"h\", \"marker\": {\"color\": \"#000000\"}}, {\"type\": \"bar\", \"y\": [\"Petek\", \"\\u010cetrtek\", \"Sreda\", \"Torek\", \"Sobota\", \"Ponedeljek\", \"Nedelja\"], \"x\": [17686, 15416, 15276, 15513, 15374, 15146, 12762], \"name\": \"\\u0160tevilo nesre\\u010d telesnih po\\u0161kodb\", \"orientation\": \"h\", \"marker\": {\"color\": \"#FF2222\"}}, {\"type\": \"bar\", \"y\": [\"Petek\", \"\\u010cetrtek\", \"Sreda\", \"Torek\", \"Sobota\", \"Ponedeljek\", \"Nedelja\"], \"x\": [36423, 31877, 31562, 31237, 30683, 30115, 22853], \"name\": \"\\u0160tevilo nesre\\u010d z materialno \\u0161kodo\", \"orientation\": \"h\", \"marker\": {\"color\": \"#AAAAAA\"}}], {\"barmode\": \"stack\", \"title\": \"\\u0160tevilo prometnih nesre\\u010d po dnevih v tednu\", \"xaxis\": {\"title\": \"\\u0160tevilo prometnih nesre\\u010d\"}, \"yaxis\": {\"title\": \"Dan v tednu\"}}, {\"showLink\": true, \"linkText\": \"Export to plot.ly\"})});</script>"
      ]
     },
     "metadata": {},
     "output_type": "display_data"
    }
   ],
   "source": [
    "# draws plot\n",
    "trace1 = go.Bar(\n",
    "    y=dnevi_sum[\"dan_v_tednu\"],\n",
    "    x=dnevi_sum[\"st_smrt\"],\n",
    "    name='Število nesreč s smrtnim izidom',\n",
    "    orientation = \"h\",\n",
    "    marker=dict(\n",
    "        color='#000000',\n",
    "    )\n",
    "    \n",
    ")\n",
    "trace2 = go.Bar(\n",
    "    y=dnevi_sum[\"dan_v_tednu\"],\n",
    "    x=dnevi_sum[\"st_telesna_poskodba\"],\n",
    "    name='Število nesreč telesnih poškodb',\n",
    "    orientation = \"h\",\n",
    "    marker=dict(\n",
    "        color='#FF2222',\n",
    "    )\n",
    ")\n",
    "trace3 = go.Bar(\n",
    "    y=dnevi_sum[\"dan_v_tednu\"],\n",
    "    x=dnevi_sum[\"st_materialna_skoda\"],\n",
    "    name='Število nesreč z materialno škodo',\n",
    "    orientation = \"h\",\n",
    "    marker=dict(\n",
    "        color='#AAAAAA',\n",
    "    )\n",
    ")\n",
    "\n",
    "data = [trace1, trace2, trace3]\n",
    "layout = go.Layout(\n",
    "    barmode='stack',\n",
    "    title=\"Število prometnih nesreč po dnevih v tednu\",\n",
    "    xaxis=dict(\n",
    "        title=\"Število prometnih nesreč\"\n",
    "    ),\n",
    "    yaxis=dict(\n",
    "        title=\"Dan v tednu\"\n",
    "    )\n",
    ")\n",
    "\n",
    "fig = go.Figure(data=data, layout=layout)\n",
    "iplot(fig, filename='stacked-bar')"
   ]
  },
  {
   "cell_type": "markdown",
   "metadata": {},
   "source": [
    "#### Izračun števila prometnih nesreč skozi leta in risanje grafa:"
   ]
  },
  {
   "cell_type": "code",
   "execution_count": 9,
   "metadata": {},
   "outputs": [],
   "source": [
    "# \n",
    "smrti_sum = dnevi.groupby(['leto'], as_index = False).agg({'Prometne nesreče s smrtnim izidom': [np.sum],\n",
    "                                                                  'Prometne nesreče s telesno poškodbo': [np.sum],\n",
    "                                                                  'Prometne nesreče z materialno škodo': [np.sum],\n",
    "                                                                  'Prometne nesreče - SKUPAJ': [np.sum]\n",
    "                                                                 }) \n",
    "\n",
    "smrti_sum.columns = [\"leto\", \"st_smrt\", \"st_telesna_poskodba\", \"st_materialna_skoda\", \"skupaj\"]    \n",
    "smrti_sum = smrti_sum.sort_values(by=\"leto\", ascending=[False])\n",
    "smrti_sum;"
   ]
  },
  {
   "cell_type": "code",
   "execution_count": 10,
   "metadata": {},
   "outputs": [
    {
     "data": {
      "application/vnd.plotly.v1+json": {
       "data": [
        {
         "marker": {
          "color": "#000000"
         },
         "type": "scatter",
         "x": [
          2014,
          2013,
          2012,
          2011,
          2010,
          2009,
          2008,
          2007,
          2006,
          2005,
          2004,
          2003
         ],
         "y": [
          97,
          116,
          122,
          129,
          127,
          154,
          200,
          263,
          233,
          230,
          254,
          220
         ]
        }
       ],
       "layout": {
        "title": "Število smrtnih nesreč skozi leta",
        "xaxis": {
         "title": "Leto"
        },
        "yaxis": {
         "title": "Število smrtnih nesreč"
        }
       }
      },
      "text/html": [
       "<div id=\"ad646047-8258-497d-9845-155050eae10a\" style=\"height: 525px; width: 100%;\" class=\"plotly-graph-div\"></div><script type=\"text/javascript\">require([\"plotly\"], function(Plotly) { window.PLOTLYENV=window.PLOTLYENV || {};window.PLOTLYENV.BASE_URL=\"https://plot.ly\";Plotly.newPlot(\"ad646047-8258-497d-9845-155050eae10a\", [{\"type\": \"scatter\", \"x\": [2014, 2013, 2012, 2011, 2010, 2009, 2008, 2007, 2006, 2005, 2004, 2003], \"y\": [97, 116, 122, 129, 127, 154, 200, 263, 233, 230, 254, 220], \"marker\": {\"color\": \"#000000\"}}], {\"title\": \"\\u0160tevilo smrtnih nesre\\u010d skozi leta\", \"xaxis\": {\"title\": \"Leto\"}, \"yaxis\": {\"title\": \"\\u0160tevilo smrtnih nesre\\u010d\"}}, {\"showLink\": true, \"linkText\": \"Export to plot.ly\"})});</script>"
      ],
      "text/vnd.plotly.v1+html": [
       "<div id=\"ad646047-8258-497d-9845-155050eae10a\" style=\"height: 525px; width: 100%;\" class=\"plotly-graph-div\"></div><script type=\"text/javascript\">require([\"plotly\"], function(Plotly) { window.PLOTLYENV=window.PLOTLYENV || {};window.PLOTLYENV.BASE_URL=\"https://plot.ly\";Plotly.newPlot(\"ad646047-8258-497d-9845-155050eae10a\", [{\"type\": \"scatter\", \"x\": [2014, 2013, 2012, 2011, 2010, 2009, 2008, 2007, 2006, 2005, 2004, 2003], \"y\": [97, 116, 122, 129, 127, 154, 200, 263, 233, 230, 254, 220], \"marker\": {\"color\": \"#000000\"}}], {\"title\": \"\\u0160tevilo smrtnih nesre\\u010d skozi leta\", \"xaxis\": {\"title\": \"Leto\"}, \"yaxis\": {\"title\": \"\\u0160tevilo smrtnih nesre\\u010d\"}}, {\"showLink\": true, \"linkText\": \"Export to plot.ly\"})});</script>"
      ]
     },
     "metadata": {},
     "output_type": "display_data"
    }
   ],
   "source": [
    "# Create a trace\n",
    "trace = go.Scatter(\n",
    "    x = smrti_sum[\"leto\"],\n",
    "    y = smrti_sum[\"st_smrt\"],\n",
    "    marker=dict(\n",
    "        color='#000000',\n",
    "    )\n",
    ")\n",
    "\n",
    "data = [trace]\n",
    "layout = go.Layout(\n",
    "    title=\"Število smrtnih nesreč skozi leta\",\n",
    "    xaxis=dict(\n",
    "        title=\"Leto\"\n",
    "    ),\n",
    "    yaxis=dict(\n",
    "        title=\"Število smrtnih nesreč\"\n",
    "    )\n",
    ")\n",
    "fig = go.Figure(data=data, layout=layout)\n",
    "iplot(fig, filename='basic-line')"
   ]
  },
  {
   "cell_type": "markdown",
   "metadata": {},
   "source": [
    "#### Osnutek po regijah razdeljenega zemljevida, ki ga bomo uporabili v kasnejši fazi:"
   ]
  },
  {
   "cell_type": "code",
   "execution_count": 11,
   "metadata": {},
   "outputs": [
    {
     "ename": "NameError",
     "evalue": "name 'ChoroplethViz' is not defined",
     "output_type": "error",
     "traceback": [
      "\u001b[1;31m---------------------------------------------------------------------------\u001b[0m",
      "\u001b[1;31mNameError\u001b[0m                                 Traceback (most recent call last)",
      "\u001b[1;32m<ipython-input-11-8a58f627558d>\u001b[0m in \u001b[0;36m<module>\u001b[1;34m()\u001b[0m\n\u001b[0;32m      2\u001b[0m \u001b[1;33m\u001b[0m\u001b[0m\n\u001b[0;32m      3\u001b[0m \u001b[1;31m# create choropleth from polygon features stored as GeoJSON\u001b[0m\u001b[1;33m\u001b[0m\u001b[1;33m\u001b[0m\u001b[0m\n\u001b[1;32m----> 4\u001b[1;33m viz = ChoroplethViz('https://gist.githubusercontent.com/imilosk/47013ab15f8a329b0497853f95d081d5/raw/48d364de4c88b0fc6fbd9e42012b47f87def285d/slovenia.json', \n\u001b[0m\u001b[0;32m      5\u001b[0m                      \u001b[0mcolor_property\u001b[0m\u001b[1;33m=\u001b[0m\u001b[1;34m'density'\u001b[0m\u001b[1;33m,\u001b[0m\u001b[1;33m\u001b[0m\u001b[0m\n\u001b[0;32m      6\u001b[0m                      \u001b[0maccess_token\u001b[0m\u001b[1;33m=\u001b[0m\u001b[0mtoken\u001b[0m\u001b[1;33m,\u001b[0m\u001b[1;33m\u001b[0m\u001b[0m\n",
      "\u001b[1;31mNameError\u001b[0m: name 'ChoroplethViz' is not defined"
     ]
    }
   ],
   "source": [
    "token = \"pk.eyJ1IjoiaW1pbG9zayIsImEiOiJjamZ2b2toNTExbjUwMnFwZGs2bjN2c2R4In0.gd6IuS0fih6OpePAt3HmPw\"\n",
    "\n",
    "# create choropleth from polygon features stored as GeoJSON\n",
    "viz = ChoroplethViz('https://gist.githubusercontent.com/imilosk/47013ab15f8a329b0497853f95d081d5/raw/48d364de4c88b0fc6fbd9e42012b47f87def285d/slovenia.json', \n",
    "                     color_property='density',\n",
    "                     access_token=token,\n",
    "                     color_stops=create_color_stops([0, 50, 100, 500, 1500], colors='YlOrRd'),\n",
    "                     color_function_type='interpolate',\n",
    "                     line_stroke='--',\n",
    "                     line_color='#ff3300',\n",
    "                     line_width=1,\n",
    "                     opacity=0.5,\n",
    "                     center=(14.9955, 46.1512),\n",
    "                     zoom=7,\n",
    "                     below_layer='waterway-label'\n",
    "                    )\n",
    "viz.show()"
   ]
  },
  {
   "cell_type": "markdown",
   "metadata": {},
   "source": [
    "#### Izračun in izris podatkov o alkoholiziranosti različnih udeležencev prometa:"
   ]
  },
  {
   "cell_type": "code",
   "execution_count": 12,
   "metadata": {},
   "outputs": [],
   "source": [
    "# \n",
    "alko_sum = alkohol.groupby(['Kategorija'], as_index = False).agg({'Stopnje alkoholiziranosti 0,50 in več': [np.sum],\n",
    "                                                                  'Stopnje alkoholiziranosti 0,80 in več': [np.sum],\n",
    "                                                                  'Stopnje alkoholiziranosti 1,50 in več': [np.sum],\n",
    "                                                                  'Število alkoholiziranih udeležencev - SKUPAJ': [np.sum]\n",
    "                                                                 }) \n",
    "\n",
    "alko_sum.columns = [\"kategorija\",\"alko_05\", \"alko_08\", \"alko_15\", \"skupaj\"]\n",
    "\n",
    "alko_sum = alko_sum.sort_values(by=\"skupaj\", ascending=[False])\n",
    "alko_sum = alko_sum.drop([0, 3, 9])\n",
    "#alko_max = alko_sum[\"kategorija\"][alko_sum[\"skupaj\"].idxmax()][\"kategorija\"]\n",
    "alko_max=alko_sum[\"kategorija\"][8]"
   ]
  },
  {
   "cell_type": "code",
   "execution_count": 13,
   "metadata": {
    "scrolled": false
   },
   "outputs": [
    {
     "data": {
      "application/vnd.plotly.v1+json": {
       "data": [
        {
         "marker": {
          "color": "#bdbdbd"
         },
         "name": "0,50 g/kg in več",
         "type": "bar",
         "x": [
          "Vozniki osebnih avtomobilov",
          "Kolesarji",
          "Vozniki mopedov in koles z motorjem",
          "Vozniki motornih koles",
          "Pešci",
          "Drugi",
          "Vozniki drugih motornih vozil"
         ],
         "y": [
          344,
          75,
          50,
          38,
          29,
          35,
          19
         ]
        },
        {
         "marker": {
          "color": "#9ecae1"
         },
         "name": "0,80 g/kg in več",
         "type": "bar",
         "x": [
          "Vozniki osebnih avtomobilov",
          "Kolesarji",
          "Vozniki mopedov in koles z motorjem",
          "Vozniki motornih koles",
          "Pešci",
          "Drugi",
          "Vozniki drugih motornih vozil"
         ],
         "y": [
          1302,
          280,
          157,
          183,
          92,
          106,
          33
         ]
        },
        {
         "marker": {
          "color": "#2b8cbe"
         },
         "name": "1,50 g/kg in več",
         "type": "bar",
         "x": [
          "Vozniki osebnih avtomobilov",
          "Kolesarji",
          "Vozniki mopedov in koles z motorjem",
          "Vozniki motornih koles",
          "Pešci",
          "Drugi",
          "Vozniki drugih motornih vozil"
         ],
         "y": [
          1641,
          601,
          296,
          158,
          159,
          107,
          73
         ]
        }
       ],
       "layout": {
        "autosize": false,
        "barmode": "group",
        "height": 650,
        "margin": {
         "b": 200,
         "r": -300
        },
        "title": "Alkoholiziranost različnih udeležencev prometa",
        "width": 950,
        "xaxis": {
         "title": "Vrsta udeležencev"
        },
        "yaxis": {
         "title": "Število prometnih nesreč"
        }
       }
      },
      "text/html": [
       "<div id=\"7865bd98-adac-4fc2-9b91-f6c88d3ff953\" style=\"height: 650px; width: 950px;\" class=\"plotly-graph-div\"></div><script type=\"text/javascript\">require([\"plotly\"], function(Plotly) { window.PLOTLYENV=window.PLOTLYENV || {};window.PLOTLYENV.BASE_URL=\"https://plot.ly\";Plotly.newPlot(\"7865bd98-adac-4fc2-9b91-f6c88d3ff953\", [{\"type\": \"bar\", \"x\": [\"Vozniki osebnih avtomobilov\", \"Kolesarji\", \"Vozniki mopedov in koles z motorjem\", \"Vozniki motornih koles\", \"Pe\\u0161ci\", \"Drugi\", \"Vozniki drugih motornih vozil\"], \"y\": [344, 75, 50, 38, 29, 35, 19], \"name\": \"0,50 g/kg in ve\\u010d\", \"marker\": {\"color\": \"#bdbdbd\"}}, {\"type\": \"bar\", \"x\": [\"Vozniki osebnih avtomobilov\", \"Kolesarji\", \"Vozniki mopedov in koles z motorjem\", \"Vozniki motornih koles\", \"Pe\\u0161ci\", \"Drugi\", \"Vozniki drugih motornih vozil\"], \"y\": [1302, 280, 157, 183, 92, 106, 33], \"name\": \"0,80 g/kg in ve\\u010d\", \"marker\": {\"color\": \"#9ecae1\"}}, {\"type\": \"bar\", \"x\": [\"Vozniki osebnih avtomobilov\", \"Kolesarji\", \"Vozniki mopedov in koles z motorjem\", \"Vozniki motornih koles\", \"Pe\\u0161ci\", \"Drugi\", \"Vozniki drugih motornih vozil\"], \"y\": [1641, 601, 296, 158, 159, 107, 73], \"name\": \"1,50 g/kg in ve\\u010d\", \"marker\": {\"color\": \"#2b8cbe\"}}], {\"title\": \"Alkoholiziranost razli\\u010dnih udele\\u017eencev prometa\", \"barmode\": \"group\", \"autosize\": false, \"width\": 950, \"height\": 650, \"margin\": {\"b\": 200, \"r\": -300}, \"xaxis\": {\"title\": \"Vrsta udele\\u017eencev\"}, \"yaxis\": {\"title\": \"\\u0160tevilo prometnih nesre\\u010d\"}}, {\"showLink\": true, \"linkText\": \"Export to plot.ly\"})});</script>"
      ],
      "text/vnd.plotly.v1+html": [
       "<div id=\"7865bd98-adac-4fc2-9b91-f6c88d3ff953\" style=\"height: 650px; width: 950px;\" class=\"plotly-graph-div\"></div><script type=\"text/javascript\">require([\"plotly\"], function(Plotly) { window.PLOTLYENV=window.PLOTLYENV || {};window.PLOTLYENV.BASE_URL=\"https://plot.ly\";Plotly.newPlot(\"7865bd98-adac-4fc2-9b91-f6c88d3ff953\", [{\"type\": \"bar\", \"x\": [\"Vozniki osebnih avtomobilov\", \"Kolesarji\", \"Vozniki mopedov in koles z motorjem\", \"Vozniki motornih koles\", \"Pe\\u0161ci\", \"Drugi\", \"Vozniki drugih motornih vozil\"], \"y\": [344, 75, 50, 38, 29, 35, 19], \"name\": \"0,50 g/kg in ve\\u010d\", \"marker\": {\"color\": \"#bdbdbd\"}}, {\"type\": \"bar\", \"x\": [\"Vozniki osebnih avtomobilov\", \"Kolesarji\", \"Vozniki mopedov in koles z motorjem\", \"Vozniki motornih koles\", \"Pe\\u0161ci\", \"Drugi\", \"Vozniki drugih motornih vozil\"], \"y\": [1302, 280, 157, 183, 92, 106, 33], \"name\": \"0,80 g/kg in ve\\u010d\", \"marker\": {\"color\": \"#9ecae1\"}}, {\"type\": \"bar\", \"x\": [\"Vozniki osebnih avtomobilov\", \"Kolesarji\", \"Vozniki mopedov in koles z motorjem\", \"Vozniki motornih koles\", \"Pe\\u0161ci\", \"Drugi\", \"Vozniki drugih motornih vozil\"], \"y\": [1641, 601, 296, 158, 159, 107, 73], \"name\": \"1,50 g/kg in ve\\u010d\", \"marker\": {\"color\": \"#2b8cbe\"}}], {\"title\": \"Alkoholiziranost razli\\u010dnih udele\\u017eencev prometa\", \"barmode\": \"group\", \"autosize\": false, \"width\": 950, \"height\": 650, \"margin\": {\"b\": 200, \"r\": -300}, \"xaxis\": {\"title\": \"Vrsta udele\\u017eencev\"}, \"yaxis\": {\"title\": \"\\u0160tevilo prometnih nesre\\u010d\"}}, {\"showLink\": true, \"linkText\": \"Export to plot.ly\"})});</script>"
      ]
     },
     "metadata": {},
     "output_type": "display_data"
    }
   ],
   "source": [
    "trace1 = go.Bar(\n",
    "    x=alko_sum[\"kategorija\"],\n",
    "    y=alko_sum[\"alko_05\"],\n",
    "    name='0,50 g/kg in več',\n",
    "    marker=dict(\n",
    "        color='#bdbdbd',\n",
    "    )\n",
    ")\n",
    "trace2 = go.Bar(\n",
    "    x=alko_sum[\"kategorija\"],\n",
    "    y=alko_sum[\"alko_08\"],\n",
    "    name='0,80 g/kg in več',\n",
    "    marker=dict(\n",
    "        color='#9ecae1',\n",
    "    )\n",
    ")\n",
    "trace3 = go.Bar(\n",
    "    x=alko_sum[\"kategorija\"],\n",
    "    y=alko_sum[\"alko_15\"],\n",
    "    name='1,50 g/kg in več',\n",
    "    marker=dict(\n",
    "        color='#2b8cbe',\n",
    "    )\n",
    ")\n",
    "data = [trace1, trace2, trace3]\n",
    "layout = go.Layout(\n",
    "    title=\"Alkoholiziranost različnih udeležencev prometa\",\n",
    "    barmode='group',\n",
    "    autosize=False,\n",
    "    width=950,\n",
    "    height=650,\n",
    "    margin=dict(b=200, r=-300),\n",
    "    xaxis=dict(\n",
    "        title=\"Vrsta udeležencev\"\n",
    "    ),\n",
    "    yaxis=dict(\n",
    "        title=\"Število prometnih nesreč\"\n",
    "    )\n",
    ")\n",
    "\n",
    "fig = go.Figure(data=data, layout=layout)\n",
    "iplot(fig, filename='grouped-bar')"
   ]
  },
  {
   "cell_type": "markdown",
   "metadata": {},
   "source": [
    "#### Izračun porazdelitve prometnih nesreč skozi dan:"
   ]
  },
  {
   "cell_type": "code",
   "execution_count": 14,
   "metadata": {},
   "outputs": [],
   "source": [
    "ura_avg = ura.groupby(['Ura v dnevu'], as_index = False).agg({'Prometne nesreče - SKUPAJ': [np.sum]}) \n",
    "\n",
    "ura_avg.columns = [\"Ura v dnevu\",\"sum\"]\n",
    "ura_max=ura_avg.iloc[ura_avg[\"sum\"].idxmax()][\"Ura v dnevu\"]\n",
    "\n",
    "ura_avg[\"sum\"]=ura_avg[\"sum\"]/(365*11+3)"
   ]
  },
  {
   "cell_type": "code",
   "execution_count": 15,
   "metadata": {},
   "outputs": [
    {
     "data": {
      "application/vnd.plotly.v1+json": {
       "data": [
        {
         "marker": {
          "color": "#2b8cbe"
         },
         "type": "bar",
         "x": [
          0,
          1,
          2,
          3,
          4,
          5,
          6,
          7,
          8,
          9,
          10,
          11,
          12,
          13,
          14,
          15,
          16,
          17,
          18,
          19,
          20,
          21,
          22,
          23
         ],
         "y": [
          1.182429069188651,
          0.9840716774514684,
          0.835490293678447,
          0.7901941264310602,
          0.8337481333997013,
          1.660776505724241,
          2.918865107018417,
          3.550024888003982,
          3.548780487804878,
          3.951219512195122,
          4.5014932802389245,
          4.773021403683424,
          4.590094574415132,
          4.989547038327526,
          5.822050771528123,
          6.014683922349428,
          5.393230462916874,
          5.009457441513191,
          4.814086610253858,
          4.104031856645097,
          3.402439024390244,
          2.9193628670980587,
          2.3698357391737184,
          1.6951219512195121
         ]
        }
       ],
       "layout": {
        "title": "Porazdelitev prometnih nesreč skozi dan",
        "xaxis": {
         "title": "Ura"
        },
        "yaxis": {
         "title": "Povprečno število smrtnih nesreč"
        }
       }
      },
      "text/html": [
       "<div id=\"4039ab15-80fe-45d1-9f28-67b08a9127a0\" style=\"height: 525px; width: 100%;\" class=\"plotly-graph-div\"></div><script type=\"text/javascript\">require([\"plotly\"], function(Plotly) { window.PLOTLYENV=window.PLOTLYENV || {};window.PLOTLYENV.BASE_URL=\"https://plot.ly\";Plotly.newPlot(\"4039ab15-80fe-45d1-9f28-67b08a9127a0\", [{\"type\": \"bar\", \"x\": [0, 1, 2, 3, 4, 5, 6, 7, 8, 9, 10, 11, 12, 13, 14, 15, 16, 17, 18, 19, 20, 21, 22, 23], \"y\": [1.182429069188651, 0.9840716774514684, 0.835490293678447, 0.7901941264310602, 0.8337481333997013, 1.660776505724241, 2.918865107018417, 3.550024888003982, 3.548780487804878, 3.951219512195122, 4.5014932802389245, 4.773021403683424, 4.590094574415132, 4.989547038327526, 5.822050771528123, 6.014683922349428, 5.393230462916874, 5.009457441513191, 4.814086610253858, 4.104031856645097, 3.402439024390244, 2.9193628670980587, 2.3698357391737184, 1.6951219512195121], \"marker\": {\"color\": \"#2b8cbe\"}}], {\"title\": \"Porazdelitev prometnih nesre\\u010d skozi dan\", \"xaxis\": {\"title\": \"Ura\"}, \"yaxis\": {\"title\": \"Povpre\\u010dno \\u0161tevilo smrtnih nesre\\u010d\"}}, {\"showLink\": true, \"linkText\": \"Export to plot.ly\"})});</script>"
      ],
      "text/vnd.plotly.v1+html": [
       "<div id=\"4039ab15-80fe-45d1-9f28-67b08a9127a0\" style=\"height: 525px; width: 100%;\" class=\"plotly-graph-div\"></div><script type=\"text/javascript\">require([\"plotly\"], function(Plotly) { window.PLOTLYENV=window.PLOTLYENV || {};window.PLOTLYENV.BASE_URL=\"https://plot.ly\";Plotly.newPlot(\"4039ab15-80fe-45d1-9f28-67b08a9127a0\", [{\"type\": \"bar\", \"x\": [0, 1, 2, 3, 4, 5, 6, 7, 8, 9, 10, 11, 12, 13, 14, 15, 16, 17, 18, 19, 20, 21, 22, 23], \"y\": [1.182429069188651, 0.9840716774514684, 0.835490293678447, 0.7901941264310602, 0.8337481333997013, 1.660776505724241, 2.918865107018417, 3.550024888003982, 3.548780487804878, 3.951219512195122, 4.5014932802389245, 4.773021403683424, 4.590094574415132, 4.989547038327526, 5.822050771528123, 6.014683922349428, 5.393230462916874, 5.009457441513191, 4.814086610253858, 4.104031856645097, 3.402439024390244, 2.9193628670980587, 2.3698357391737184, 1.6951219512195121], \"marker\": {\"color\": \"#2b8cbe\"}}], {\"title\": \"Porazdelitev prometnih nesre\\u010d skozi dan\", \"xaxis\": {\"title\": \"Ura\"}, \"yaxis\": {\"title\": \"Povpre\\u010dno \\u0161tevilo smrtnih nesre\\u010d\"}}, {\"showLink\": true, \"linkText\": \"Export to plot.ly\"})});</script>"
      ]
     },
     "metadata": {},
     "output_type": "display_data"
    }
   ],
   "source": [
    "# Create a trace\n",
    "trace = go.Bar(\n",
    "    x = ura_avg[\"Ura v dnevu\"],\n",
    "    y = ura_avg[\"sum\"],\n",
    "    marker=dict(\n",
    "        color='#2b8cbe',\n",
    "    )\n",
    ")\n",
    "\n",
    "data = [trace]\n",
    "layout = go.Layout(\n",
    "    title=\"Porazdelitev prometnih nesreč skozi dan\",\n",
    "    xaxis=dict(\n",
    "        title=\"Ura\"\n",
    "    ),\n",
    "    yaxis=dict(\n",
    "        title=\"Povprečno število smrtnih nesreč\"\n",
    "    )\n",
    ")\n",
    "fig = go.Figure(data=data, layout=layout)\n",
    "iplot(fig, filename='basic-bar')"
   ]
  },
  {
   "cell_type": "code",
   "execution_count": 16,
   "metadata": {},
   "outputs": [
    {
     "data": {
      "text/plain": [
       "'V naselju'"
      ]
     },
     "execution_count": 16,
     "metadata": {},
     "output_type": "execute_result"
    }
   ],
   "source": [
    "# \n",
    "lok_sum = lokacije.groupby([\"Lokacija\"], as_index = False).agg({'Prometne nesreče - SKUPAJ': [np.sum]}) \n",
    "\n",
    "lok_sum.columns = [\"kje\",\"skupaj\"]\n",
    "\n",
    "lok_sum\n",
    "lok_max = lok_sum.iloc[lok_sum[\"skupaj\"].idxmax()+1][\"kje\"]\n",
    "lok_max"
   ]
  },
  {
   "cell_type": "code",
   "execution_count": 17,
   "metadata": {},
   "outputs": [
    {
     "data": {
      "text/plain": [
       "'Oktober'"
      ]
     },
     "execution_count": 17,
     "metadata": {},
     "output_type": "execute_result"
    }
   ],
   "source": [
    "mes_sum = meseci.groupby([\"Mesec v letu\"], as_index = False).agg({'Prometne nesreče - SKUPAJ': [np.sum]}) \n",
    "\n",
    "mes_sum.columns = [\"mesec\",\"sum\"]\n",
    "\n",
    "mes_sum\n",
    "mes_max = mes_sum.iloc[mes_sum[\"sum\"].idxmax()][\"mesec\"]\n",
    "mes_max"
   ]
  },
  {
   "cell_type": "code",
   "execution_count": 18,
   "metadata": {},
   "outputs": [
    {
     "data": {
      "text/plain": [
       "'Osrednjeslovenska'"
      ]
     },
     "execution_count": 18,
     "metadata": {},
     "output_type": "execute_result"
    }
   ],
   "source": [
    "reg_sum = regije.groupby([\"Regija\"], as_index = False).agg({'Prometne nesreče - SKUPAJ': [np.sum]}) \n",
    "\n",
    "reg_sum.columns = [\"regija\",\"sum\"]\n",
    "\n",
    "reg_sum\n",
    "reg_max = reg_sum.iloc[reg_sum[\"sum\"].idxmax()][\"regija\"]\n",
    "reg_max"
   ]
  },
  {
   "cell_type": "code",
   "execution_count": 19,
   "metadata": {},
   "outputs": [
    {
     "data": {
      "text/plain": [
       "'Vrste udeležencev - SKUPAJ'"
      ]
     },
     "execution_count": 19,
     "metadata": {},
     "output_type": "execute_result"
    }
   ],
   "source": [
    "\n",
    "udl_sum = udelezenci.groupby([\"Udeleženci\"], as_index = False).agg({'Število udeležencev - SKUPAJ': [np.sum]}) \n",
    "\n",
    "udl_sum.columns = [\"udel\",\"sum\"]\n",
    "\n",
    "udl_sum\n",
    "udl_max = udl_sum.iloc[udl_sum[\"sum\"].idxmax()][\"udel\"]\n",
    "udl_max"
   ]
  },
  {
   "cell_type": "code",
   "execution_count": 20,
   "metadata": {},
   "outputs": [
    {
     "name": "stdout",
     "output_type": "stream",
     "text": [
      "Vozniki osebnih avtomobilov , Petek , V naselju , Oktober , Osrednjeslovenska ,  15  , Vrste udeležencev - SKUPAJ\n"
     ]
    }
   ],
   "source": [
    "#alkohol, dan, kje, mesec, regija, ura, kdo, cesta\n",
    "print(alko_max+\" , \"+dnevi_max+\" , \"+lok_max+\" , \"+ mes_max+ \" , \"+reg_max+\" , \",ura_max,\" , \"+udl_max)"
   ]
  }
 ],
 "metadata": {
  "kernelspec": {
   "display_name": "Python 3",
   "language": "python",
   "name": "python3"
  },
  "language_info": {
   "codemirror_mode": {
    "name": "ipython",
    "version": 3
   },
   "file_extension": ".py",
   "mimetype": "text/x-python",
   "name": "python",
   "nbconvert_exporter": "python",
   "pygments_lexer": "ipython3",
   "version": "3.6.4"
  }
 },
 "nbformat": 4,
 "nbformat_minor": 2
}

{
 "cells": [
  {
   "cell_type": "code",
   "execution_count": 1,
   "metadata": {},
   "outputs": [],
   "source": [
    "import numpy as np\n",
    "import pandas as pd"
   ]
  },
  {
   "cell_type": "code",
   "execution_count": 2,
   "metadata": {},
   "outputs": [
    {
     "data": {
      "text/html": [
       "<script>requirejs.config({paths: { 'plotly': ['https://cdn.plot.ly/plotly-latest.min']},});if(!window.Plotly) {{require(['plotly'],function(plotly) {window.Plotly=plotly;});}}</script>"
      ],
      "text/vnd.plotly.v1+html": [
       "<script>requirejs.config({paths: { 'plotly': ['https://cdn.plot.ly/plotly-latest.min']},});if(!window.Plotly) {{require(['plotly'],function(plotly) {window.Plotly=plotly;});}}</script>"
      ]
     },
     "metadata": {},
     "output_type": "display_data"
    }
   ],
   "source": [
    "import plotly.graph_objs as go\n",
    "from plotly.offline import download_plotlyjs, init_notebook_mode, plot, iplot\n",
    "init_notebook_mode(connected=True)"
   ]
  },
  {
   "cell_type": "code",
   "execution_count": 3,
   "metadata": {},
   "outputs": [],
   "source": [
    "dnevi=pd.read_csv('data/po_dnevih.csv', sep=\";\")\n",
    "udelezenci=pd.read_csv('data/po_vrstah_udelezencev.csv', sep=\";\")\n",
    "ceste=pd.read_csv('data/po_vrsti_ceste.csv', sep=\";\")\n",
    "meseci=pd.read_csv('data/po_mesecih.csv', sep=\";\")\n",
    "regije=pd.read_csv('data/po_regijah.csv', sep=\";\")\n",
    "lokacije=pd.read_csv('data/po_lokaciji.csv', sep=\";\")\n",
    "ura=pd.read_csv('data/po_urah.csv', sep=\";\")\n",
    "alkohol=pd.read_csv('data/alkohol.csv', sep=\";\")"
   ]
  },
  {
   "cell_type": "code",
   "execution_count": 4,
   "metadata": {},
   "outputs": [],
   "source": [
    "dnevi;"
   ]
  },
  {
   "cell_type": "code",
   "execution_count": 5,
   "metadata": {},
   "outputs": [],
   "source": [
    "# \n",
    "dnevi_sum = dnevi.groupby(['Dan v tednu'], as_index = False).agg({'Prometne nesreče s smrtnim izidom': [np.sum],\n",
    "                                                                  'Prometne nesreče s telesno poškodbo': [np.sum],\n",
    "                                                                  'Prometne nesreče z materialno škodo': [np.sum],\n",
    "                                                                  'Prometne nesreče - SKUPAJ': [np.sum]\n",
    "                                                                 }) \n",
    "\n",
    "dnevi_sum.columns = [\"dan_v_tednu\", \"st_smrt\", \"st_telesna_poskodba\", \"st_materialna_skoda\", \"skupaj\"]    \n",
    "dnevi_sum = dnevi_sum.sort_values(by=\"skupaj\", ascending=[False])\n",
    "dnevi_sum;"
   ]
  },
  {
   "cell_type": "markdown",
   "metadata": {},
   "source": []
  },
  {
   "cell_type": "code",
   "execution_count": 6,
   "metadata": {},
   "outputs": [
    {
     "data": {
      "application/vnd.plotly.v1+json": {
       "data": [
        {
         "name": "Število nesreč s smrtnim izidom",
         "orientation": "h",
         "type": "bar",
         "x": [
          316,
          289,
          256,
          244,
          379,
          299,
          362
         ],
         "y": [
          "Petek",
          "Četrtek",
          "Sreda",
          "Torek",
          "Sobota",
          "Ponedeljek",
          "Nedelja"
         ]
        },
        {
         "name": "Število nesreč telesnih poškodb",
         "orientation": "h",
         "type": "bar",
         "x": [
          17686,
          15416,
          15276,
          15513,
          15374,
          15146,
          12762
         ],
         "y": [
          "Petek",
          "Četrtek",
          "Sreda",
          "Torek",
          "Sobota",
          "Ponedeljek",
          "Nedelja"
         ]
        },
        {
         "name": "Število nesreč z materialno škodo",
         "orientation": "h",
         "type": "bar",
         "x": [
          36423,
          31877,
          31562,
          31237,
          30683,
          30115,
          22853
         ],
         "y": [
          "Petek",
          "Četrtek",
          "Sreda",
          "Torek",
          "Sobota",
          "Ponedeljek",
          "Nedelja"
         ]
        }
       ],
       "layout": {
        "barmode": "stack"
       }
      },
      "text/html": [
       "<div id=\"139ed928-71ca-4de2-a999-2cfe7ad8f814\" style=\"height: 525px; width: 100%;\" class=\"plotly-graph-div\"></div><script type=\"text/javascript\">require([\"plotly\"], function(Plotly) { window.PLOTLYENV=window.PLOTLYENV || {};window.PLOTLYENV.BASE_URL=\"https://plot.ly\";Plotly.newPlot(\"139ed928-71ca-4de2-a999-2cfe7ad8f814\", [{\"type\": \"bar\", \"y\": [\"Petek\", \"\\u010cetrtek\", \"Sreda\", \"Torek\", \"Sobota\", \"Ponedeljek\", \"Nedelja\"], \"x\": [316, 289, 256, 244, 379, 299, 362], \"name\": \"\\u0160tevilo nesre\\u010d s smrtnim izidom\", \"orientation\": \"h\"}, {\"type\": \"bar\", \"y\": [\"Petek\", \"\\u010cetrtek\", \"Sreda\", \"Torek\", \"Sobota\", \"Ponedeljek\", \"Nedelja\"], \"x\": [17686, 15416, 15276, 15513, 15374, 15146, 12762], \"name\": \"\\u0160tevilo nesre\\u010d telesnih po\\u0161kodb\", \"orientation\": \"h\"}, {\"type\": \"bar\", \"y\": [\"Petek\", \"\\u010cetrtek\", \"Sreda\", \"Torek\", \"Sobota\", \"Ponedeljek\", \"Nedelja\"], \"x\": [36423, 31877, 31562, 31237, 30683, 30115, 22853], \"name\": \"\\u0160tevilo nesre\\u010d z materialno \\u0161kodo\", \"orientation\": \"h\"}], {\"barmode\": \"stack\"}, {\"showLink\": true, \"linkText\": \"Export to plot.ly\"})});</script>"
      ],
      "text/vnd.plotly.v1+html": [
       "<div id=\"139ed928-71ca-4de2-a999-2cfe7ad8f814\" style=\"height: 525px; width: 100%;\" class=\"plotly-graph-div\"></div><script type=\"text/javascript\">require([\"plotly\"], function(Plotly) { window.PLOTLYENV=window.PLOTLYENV || {};window.PLOTLYENV.BASE_URL=\"https://plot.ly\";Plotly.newPlot(\"139ed928-71ca-4de2-a999-2cfe7ad8f814\", [{\"type\": \"bar\", \"y\": [\"Petek\", \"\\u010cetrtek\", \"Sreda\", \"Torek\", \"Sobota\", \"Ponedeljek\", \"Nedelja\"], \"x\": [316, 289, 256, 244, 379, 299, 362], \"name\": \"\\u0160tevilo nesre\\u010d s smrtnim izidom\", \"orientation\": \"h\"}, {\"type\": \"bar\", \"y\": [\"Petek\", \"\\u010cetrtek\", \"Sreda\", \"Torek\", \"Sobota\", \"Ponedeljek\", \"Nedelja\"], \"x\": [17686, 15416, 15276, 15513, 15374, 15146, 12762], \"name\": \"\\u0160tevilo nesre\\u010d telesnih po\\u0161kodb\", \"orientation\": \"h\"}, {\"type\": \"bar\", \"y\": [\"Petek\", \"\\u010cetrtek\", \"Sreda\", \"Torek\", \"Sobota\", \"Ponedeljek\", \"Nedelja\"], \"x\": [36423, 31877, 31562, 31237, 30683, 30115, 22853], \"name\": \"\\u0160tevilo nesre\\u010d z materialno \\u0161kodo\", \"orientation\": \"h\"}], {\"barmode\": \"stack\"}, {\"showLink\": true, \"linkText\": \"Export to plot.ly\"})});</script>"
      ]
     },
     "metadata": {},
     "output_type": "display_data"
    }
   ],
   "source": [
    "# draws plot\n",
    "trace1 = go.Bar(\n",
    "    y=dnevi_sum[\"dan_v_tednu\"],\n",
    "    x=dnevi_sum[\"st_smrt\"],\n",
    "    name='Število nesreč s smrtnim izidom',\n",
    "    orientation = \"h\"\n",
    ")\n",
    "trace2 = go.Bar(\n",
    "    y=dnevi_sum[\"dan_v_tednu\"],\n",
    "    x=dnevi_sum[\"st_telesna_poskodba\"],\n",
    "    name='Število nesreč telesnih poškodb',\n",
    "    orientation = \"h\"\n",
    ")\n",
    "trace3 = go.Bar(\n",
    "    y=dnevi_sum[\"dan_v_tednu\"],\n",
    "    x=dnevi_sum[\"st_materialna_skoda\"],\n",
    "    name='Število nesreč z materialno škodo',\n",
    "    orientation = \"h\"\n",
    ")\n",
    "\n",
    "data = [trace1, trace2, trace3]\n",
    "layout = go.Layout(\n",
    "    barmode='stack'\n",
    ")\n",
    "\n",
    "fig = go.Figure(data=data, layout=layout)\n",
    "iplot(fig, filename='stacked-bar')"
   ]
  },
  {
   "cell_type": "markdown",
   "metadata": {},
   "source": []
  },
  {
   "cell_type": "code",
   "execution_count": 7,
   "metadata": {},
   "outputs": [],
   "source": [
    "# \n",
    "smrti_sum = dnevi.groupby(['leto'], as_index = False).agg({'Prometne nesreče s smrtnim izidom': [np.sum],\n",
    "                                                                  'Prometne nesreče s telesno poškodbo': [np.sum],\n",
    "                                                                  'Prometne nesreče z materialno škodo': [np.sum],\n",
    "                                                                  'Prometne nesreče - SKUPAJ': [np.sum]\n",
    "                                                                 }) \n",
    "\n",
    "smrti_sum.columns = [\"leto\", \"st_smrt\", \"st_telesna_poskodba\", \"st_materialna_skoda\", \"skupaj\"]    \n",
    "smrti_sum = smrti_sum.sort_values(by=\"skupaj\", ascending=[False])\n",
    "smrti_sum = smrti_sum.sort_values(by=\"leto\", ascending=[False])\n",
    "smrti_sum;"
   ]
  },
  {
   "cell_type": "code",
   "execution_count": 8,
   "metadata": {},
   "outputs": [
    {
     "data": {
      "application/vnd.plotly.v1+json": {
       "data": [
        {
         "type": "scatter",
         "x": [
          2014,
          2013,
          2012,
          2011,
          2010,
          2009,
          2008,
          2007,
          2006,
          2005,
          2004,
          2003
         ],
         "y": [
          97,
          116,
          122,
          129,
          127,
          154,
          200,
          263,
          233,
          230,
          254,
          220
         ]
        }
       ],
       "layout": {}
      },
      "text/html": [
       "<div id=\"d7b38ab1-b816-4728-960d-85ba75e1105b\" style=\"height: 525px; width: 100%;\" class=\"plotly-graph-div\"></div><script type=\"text/javascript\">require([\"plotly\"], function(Plotly) { window.PLOTLYENV=window.PLOTLYENV || {};window.PLOTLYENV.BASE_URL=\"https://plot.ly\";Plotly.newPlot(\"d7b38ab1-b816-4728-960d-85ba75e1105b\", [{\"type\": \"scatter\", \"x\": [2014, 2013, 2012, 2011, 2010, 2009, 2008, 2007, 2006, 2005, 2004, 2003], \"y\": [97, 116, 122, 129, 127, 154, 200, 263, 233, 230, 254, 220]}], {}, {\"showLink\": true, \"linkText\": \"Export to plot.ly\"})});</script>"
      ],
      "text/vnd.plotly.v1+html": [
       "<div id=\"d7b38ab1-b816-4728-960d-85ba75e1105b\" style=\"height: 525px; width: 100%;\" class=\"plotly-graph-div\"></div><script type=\"text/javascript\">require([\"plotly\"], function(Plotly) { window.PLOTLYENV=window.PLOTLYENV || {};window.PLOTLYENV.BASE_URL=\"https://plot.ly\";Plotly.newPlot(\"d7b38ab1-b816-4728-960d-85ba75e1105b\", [{\"type\": \"scatter\", \"x\": [2014, 2013, 2012, 2011, 2010, 2009, 2008, 2007, 2006, 2005, 2004, 2003], \"y\": [97, 116, 122, 129, 127, 154, 200, 263, 233, 230, 254, 220]}], {}, {\"showLink\": true, \"linkText\": \"Export to plot.ly\"})});</script>"
      ]
     },
     "metadata": {},
     "output_type": "display_data"
    }
   ],
   "source": [
    "# Create a trace\n",
    "trace = go.Scatter(\n",
    "    x = smrti_sum[\"leto\"],\n",
    "    y = smrti_sum[\"st_smrt\"]\n",
    ")\n",
    "\n",
    "data = [trace]\n",
    "iplot(data, filename='basic-line')"
   ]
  },
  {
   "cell_type": "code",
   "execution_count": null,
   "metadata": {},
   "outputs": [],
   "source": []
  }
 ],
 "metadata": {
  "kernelspec": {
   "display_name": "Python 3",
   "language": "python",
   "name": "python3"
  },
  "language_info": {
   "codemirror_mode": {
    "name": "ipython",
    "version": 3
   },
   "file_extension": ".py",
   "mimetype": "text/x-python",
   "name": "python",
   "nbconvert_exporter": "python",
   "pygments_lexer": "ipython3",
   "version": "3.6.4"
  }
 },
 "nbformat": 4,
 "nbformat_minor": 2
}
